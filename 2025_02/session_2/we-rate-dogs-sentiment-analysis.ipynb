{
 "cells": [
  {
   "cell_type": "markdown",
   "metadata": {},
   "source": [
    "# Session 12: Sentiment analysis\n",
    "\n",
    "Notebook by Terence Broad and Rebecca Fiebrink\n",
    "In this notebook we will look at how to perform sentiment analysis with the NLTK library. We will perform this on the [weratedogs dataset](https://git.arts.ac.uk/tbroad/we-rate-dogs-dataset) that was [built using web scraping](https://git.arts.ac.uk/tbroad/web-scrape-we-rate-dogs) from instagram. If you have not seen the [weratedogs instagram account](https://www.instagram.com/weratedogs/?hl=en) use this as an excuse to look at some cute dog pictures for five minutes.\n",
    "\n",
    "First lets do some imports:"
   ]
  },
  {
   "cell_type": "code",
   "execution_count": 1,
   "metadata": {
    "ExecuteTime": {
     "end_time": "2024-09-12T10:56:10.207924Z",
     "start_time": "2024-09-12T10:55:58.350379Z"
    }
   },
   "outputs": [],
   "source": [
    "# Basic libraries\n",
    "import re\n",
    "import nltk\n",
    "import numpy as np\n",
    "import pandas as pd\n",
    "\n",
    "# NLTK utils\n",
    "from nltk.corpus import wordnet\n",
    "from nltk.corpus import stopwords\n",
    "from nltk.stem import WordNetLemmatizer\n",
    "from nltk.sentiment.vader import SentimentIntensityAnalyzer\n",
    "\n",
    "# SK-Learn classification report for evaluating sentiment analysis\n",
    "from sklearn.metrics import classification_report"
   ]
  },
  {
   "cell_type": "markdown",
   "metadata": {},
   "source": [
    "And downloads:"
   ]
  },
  {
   "cell_type": "code",
   "execution_count": 2,
   "metadata": {
    "ExecuteTime": {
     "end_time": "2024-09-12T10:59:55.693036Z",
     "start_time": "2024-09-12T10:59:55.492511Z"
    }
   },
   "outputs": [
    {
     "name": "stderr",
     "output_type": "stream",
     "text": [
      "[nltk_data] Downloading package stopwords to\n",
      "[nltk_data]     /Users/toniayon/nltk_data...\n",
      "[nltk_data]   Package stopwords is already up-to-date!\n",
      "[nltk_data] Downloading package wordnet to\n",
      "[nltk_data]     /Users/toniayon/nltk_data...\n",
      "[nltk_data]   Package wordnet is already up-to-date!\n",
      "[nltk_data] Downloading package averaged_perceptron_tagger_eng to\n",
      "[nltk_data]     /Users/toniayon/nltk_data...\n",
      "[nltk_data]   Package averaged_perceptron_tagger_eng is already up-to-\n",
      "[nltk_data]       date!\n",
      "[nltk_data] Downloading package vader_lexicon to\n",
      "[nltk_data]     /Users/toniayon/nltk_data...\n",
      "[nltk_data]   Package vader_lexicon is already up-to-date!\n"
     ]
    },
    {
     "data": {
      "text/plain": [
       "True"
      ]
     },
     "execution_count": 2,
     "metadata": {},
     "output_type": "execute_result"
    }
   ],
   "source": [
    "nltk.download('stopwords')\n",
    "nltk.download('wordnet')\n",
    "nltk.download('averaged_perceptron_tagger_eng')\n",
    "\n",
    "nltk.download('vader_lexicon')"
   ]
  },
  {
   "cell_type": "markdown",
   "metadata": {},
   "source": [
    "Define our POS tagger for lemmatisation:"
   ]
  },
  {
   "cell_type": "code",
   "execution_count": 3,
   "metadata": {
    "ExecuteTime": {
     "end_time": "2024-09-12T10:59:57.967940Z",
     "start_time": "2024-09-12T10:59:57.961943Z"
    }
   },
   "outputs": [],
   "source": [
    "# Function originally from: https://www.programcreek.com/python/?CodeExample=get%20wordnet%20pos\n",
    "def get_wordnet_pos(word):\n",
    "    tag = nltk.pos_tag([word])[0][1][0].upper()\n",
    "    tag_dict = {\"J\": wordnet.ADJ,\n",
    "                \"N\": wordnet.NOUN,\n",
    "                \"V\": wordnet.VERB,\n",
    "                \"R\": wordnet.ADV}\n",
    "\n",
    "    return tag_dict.get(tag, wordnet.NOUN)"
   ]
  },
  {
   "cell_type": "markdown",
   "metadata": {},
   "source": [
    "Now lets load our dataset in.\n",
    "(Note that this dataset comes from Terence's repository at https://git.arts.ac.uk/tbroad/we-rate-dogs-dataset, where you can also see the dog images corresponding to this data.)"
   ]
  },
  {
   "cell_type": "code",
   "execution_count": 5,
   "metadata": {
    "ExecuteTime": {
     "end_time": "2024-09-12T10:59:59.415226Z",
     "start_time": "2024-09-12T10:59:59.382844Z"
    }
   },
   "outputs": [
    {
     "data": {
      "text/html": [
       "<div>\n",
       "<style scoped>\n",
       "    .dataframe tbody tr th:only-of-type {\n",
       "        vertical-align: middle;\n",
       "    }\n",
       "\n",
       "    .dataframe tbody tr th {\n",
       "        vertical-align: top;\n",
       "    }\n",
       "\n",
       "    .dataframe thead th {\n",
       "        text-align: right;\n",
       "    }\n",
       "</style>\n",
       "<table border=\"1\" class=\"dataframe\">\n",
       "  <thead>\n",
       "    <tr style=\"text-align: right;\">\n",
       "      <th></th>\n",
       "      <th>doggo_rating</th>\n",
       "      <th>comment</th>\n",
       "    </tr>\n",
       "  </thead>\n",
       "  <tbody>\n",
       "    <tr>\n",
       "      <th>0</th>\n",
       "      <td>12</td>\n",
       "      <td>This is Coco. At first I thought she was a clo...</td>\n",
       "    </tr>\n",
       "    <tr>\n",
       "      <th>1</th>\n",
       "      <td>14</td>\n",
       "      <td>This is Carlton. He's being hailed a hero for ...</td>\n",
       "    </tr>\n",
       "    <tr>\n",
       "      <th>2</th>\n",
       "      <td>13</td>\n",
       "      <td>This is Carolina, Dawson, Claudia, and Cecilia...</td>\n",
       "    </tr>\n",
       "    <tr>\n",
       "      <th>3</th>\n",
       "      <td>14</td>\n",
       "      <td>This is Cookie. Some people wear their heart o...</td>\n",
       "    </tr>\n",
       "    <tr>\n",
       "      <th>4</th>\n",
       "      <td>13</td>\n",
       "      <td>We don’t rate snowflakes. We only rate dogs. T...</td>\n",
       "    </tr>\n",
       "    <tr>\n",
       "      <th>...</th>\n",
       "      <td>...</td>\n",
       "      <td>...</td>\n",
       "    </tr>\n",
       "    <tr>\n",
       "      <th>3038</th>\n",
       "      <td>13</td>\n",
       "      <td>This is Tilly. She's just checking pup on you....</td>\n",
       "    </tr>\n",
       "    <tr>\n",
       "      <th>3039</th>\n",
       "      <td>7</td>\n",
       "      <td>This is Biden. Biden just tripped... 7/10</td>\n",
       "    </tr>\n",
       "    <tr>\n",
       "      <th>3040</th>\n",
       "      <td>14</td>\n",
       "      <td>This is Seamus. He was diagnosed with terminal...</td>\n",
       "    </tr>\n",
       "    <tr>\n",
       "      <th>3041</th>\n",
       "      <td>12</td>\n",
       "      <td>This is Brewski. He’s not the step dad. He’s t...</td>\n",
       "    </tr>\n",
       "    <tr>\n",
       "      <th>3042</th>\n",
       "      <td>12</td>\n",
       "      <td>This is Freddie. He wants to make sure you don...</td>\n",
       "    </tr>\n",
       "  </tbody>\n",
       "</table>\n",
       "<p>3043 rows × 2 columns</p>\n",
       "</div>"
      ],
      "text/plain": [
       "      doggo_rating                                            comment\n",
       "0               12  This is Coco. At first I thought she was a clo...\n",
       "1               14  This is Carlton. He's being hailed a hero for ...\n",
       "2               13  This is Carolina, Dawson, Claudia, and Cecilia...\n",
       "3               14  This is Cookie. Some people wear their heart o...\n",
       "4               13  We don’t rate snowflakes. We only rate dogs. T...\n",
       "...            ...                                                ...\n",
       "3038            13  This is Tilly. She's just checking pup on you....\n",
       "3039             7         This is Biden. Biden just tripped... 7/10 \n",
       "3040            14  This is Seamus. He was diagnosed with terminal...\n",
       "3041            12  This is Brewski. He’s not the step dad. He’s t...\n",
       "3042            12  This is Freddie. He wants to make sure you don...\n",
       "\n",
       "[3043 rows x 2 columns]"
      ]
     },
     "execution_count": 5,
     "metadata": {},
     "output_type": "execute_result"
    }
   ],
   "source": [
    "df = pd.read_csv('../../data/weratedogs_ratings.tsv', sep='\\t')\n",
    "df = df.drop('doggo_index', axis=1)\n",
    "df"
   ]
  },
  {
   "cell_type": "markdown",
   "metadata": {},
   "source": [
    "Lets do some pre-processing, by removing stop words and performing lemmatisation. Here we are also manually removing the ratings of each dog using regex."
   ]
  },
  {
   "cell_type": "code",
   "execution_count": 14,
   "metadata": {
    "ExecuteTime": {
     "end_time": "2024-09-12T11:00:38.441045Z",
     "start_time": "2024-09-12T11:00:02.143817Z"
    }
   },
   "outputs": [
    {
     "data": {
      "text/html": [
       "<div>\n",
       "<style scoped>\n",
       "    .dataframe tbody tr th:only-of-type {\n",
       "        vertical-align: middle;\n",
       "    }\n",
       "\n",
       "    .dataframe tbody tr th {\n",
       "        vertical-align: top;\n",
       "    }\n",
       "\n",
       "    .dataframe thead th {\n",
       "        text-align: right;\n",
       "    }\n",
       "</style>\n",
       "<table border=\"1\" class=\"dataframe\">\n",
       "  <thead>\n",
       "    <tr style=\"text-align: right;\">\n",
       "      <th></th>\n",
       "      <th>doggo_rating</th>\n",
       "      <th>comment</th>\n",
       "    </tr>\n",
       "  </thead>\n",
       "  <tbody>\n",
       "    <tr>\n",
       "      <th>0</th>\n",
       "      <td>12</td>\n",
       "      <td>This Coco. At first I thought cloud cloud bork...</td>\n",
       "    </tr>\n",
       "    <tr>\n",
       "      <th>1</th>\n",
       "      <td>14</td>\n",
       "      <td>This Carlton. He's hail hero save life dog nee...</td>\n",
       "    </tr>\n",
       "    <tr>\n",
       "      <th>2</th>\n",
       "      <td>13</td>\n",
       "      <td>This Carolina, Dawson, Claudia, Cecilia. They ...</td>\n",
       "    </tr>\n",
       "    <tr>\n",
       "      <th>3</th>\n",
       "      <td>14</td>\n",
       "      <td>This Cookie. Some people wear heart sleeve. Sh...</td>\n",
       "    </tr>\n",
       "    <tr>\n",
       "      <th>4</th>\n",
       "      <td>13</td>\n",
       "      <td>We don’t rate snowflakes. We rate dogs. This s...</td>\n",
       "    </tr>\n",
       "    <tr>\n",
       "      <th>...</th>\n",
       "      <td>...</td>\n",
       "      <td>...</td>\n",
       "    </tr>\n",
       "    <tr>\n",
       "      <th>3038</th>\n",
       "      <td>13</td>\n",
       "      <td>This Tilly. She's check pup you. Hopes ok. If ...</td>\n",
       "    </tr>\n",
       "    <tr>\n",
       "      <th>3039</th>\n",
       "      <td>7</td>\n",
       "      <td>This Biden. Biden tripped...</td>\n",
       "    </tr>\n",
       "    <tr>\n",
       "      <th>3040</th>\n",
       "      <td>14</td>\n",
       "      <td>This Seamus. He diagnose terminal brain cancer...</td>\n",
       "    </tr>\n",
       "    <tr>\n",
       "      <th>3041</th>\n",
       "      <td>12</td>\n",
       "      <td>This Brewski. He’s step dad. He’s dad step up....</td>\n",
       "    </tr>\n",
       "    <tr>\n",
       "      <th>3042</th>\n",
       "      <td>12</td>\n",
       "      <td>This Freddie. He want make sure don’t forget p...</td>\n",
       "    </tr>\n",
       "  </tbody>\n",
       "</table>\n",
       "<p>3043 rows × 2 columns</p>\n",
       "</div>"
      ],
      "text/plain": [
       "      doggo_rating                                            comment\n",
       "0               12  This Coco. At first I thought cloud cloud bork...\n",
       "1               14  This Carlton. He's hail hero save life dog nee...\n",
       "2               13  This Carolina, Dawson, Claudia, Cecilia. They ...\n",
       "3               14  This Cookie. Some people wear heart sleeve. Sh...\n",
       "4               13  We don’t rate snowflakes. We rate dogs. This s...\n",
       "...            ...                                                ...\n",
       "3038            13  This Tilly. She's check pup you. Hopes ok. If ...\n",
       "3039             7                       This Biden. Biden tripped...\n",
       "3040            14  This Seamus. He diagnose terminal brain cancer...\n",
       "3041            12  This Brewski. He’s step dad. He’s dad step up....\n",
       "3042            12  This Freddie. He want make sure don’t forget p...\n",
       "\n",
       "[3043 rows x 2 columns]"
      ]
     },
     "execution_count": 14,
     "metadata": {},
     "output_type": "execute_result"
    }
   ],
   "source": [
    "lemmatizer = WordNetLemmatizer()\n",
    "for index, row in df.iterrows():\n",
    "    comment = row['comment']\n",
    "    # Remove the numerical score rating from the comment\n",
    "    comment_no_rating = re.sub(' ([0-9]*)\\/10', '', comment)\n",
    "    commen_no_stop_words = [word for word in comment_no_rating.split() if word not in stopwords.words('english')]\n",
    "    lemmitized_comment = \" \".join([lemmatizer.lemmatize(word, get_wordnet_pos(word)) for word in commen_no_stop_words])\n",
    "    df.loc[index, 'comment'] = lemmitized_comment\n",
    "df"
   ]
  },
  {
   "cell_type": "markdown",
   "metadata": {},
   "source": [
    "Lets create our sentiment analyser class and test it on one comment. We will get a dictionary returned to use with four components: `neg` (negative sentiment), `neu` (neutral sentiment), `pos` (positive sentiment) and `compound` (a weighted average of the three scores).  "
   ]
  },
  {
   "cell_type": "code",
   "execution_count": 15,
   "metadata": {
    "ExecuteTime": {
     "end_time": "2024-09-12T11:00:38.461506Z",
     "start_time": "2024-09-12T11:00:38.444069Z"
    }
   },
   "outputs": [
    {
     "data": {
      "text/plain": [
       "{'neg': 0.0, 'neu': 0.621, 'pos': 0.379, 'compound': 0.7269}"
      ]
     },
     "execution_count": 15,
     "metadata": {},
     "output_type": "execute_result"
    }
   ],
   "source": [
    "analyzer = SentimentIntensityAnalyzer()\n",
    "\n",
    "individual_sentiment = analyzer.polarity_scores(df['comment'][0])\n",
    "individual_sentiment"
   ]
  },
  {
   "cell_type": "markdown",
   "metadata": {},
   "source": [
    "#### Sentiment analysis function\n",
    "\n",
    "This function will give us a binary score for positive or negative sentiment based on the compound score:"
   ]
  },
  {
   "cell_type": "code",
   "execution_count": 16,
   "metadata": {
    "ExecuteTime": {
     "end_time": "2024-09-12T11:00:38.466526Z",
     "start_time": "2024-09-12T11:00:38.462526Z"
    }
   },
   "outputs": [],
   "source": [
    "# This block of code is derived from: https://www.datacamp.com/tutorial/text-analytics-beginners-nltk\n",
    "def get_sentiment(text):\n",
    "    scores = analyzer.polarity_scores(text)\n",
    "    sentiment = 1 if scores['compound'] > 0 else 0\n",
    "    return sentiment"
   ]
  },
  {
   "cell_type": "code",
   "execution_count": 17,
   "metadata": {
    "ExecuteTime": {
     "end_time": "2024-09-12T11:00:38.474669Z",
     "start_time": "2024-09-12T11:00:38.468548Z"
    }
   },
   "outputs": [
    {
     "data": {
      "text/plain": [
       "1"
      ]
     },
     "execution_count": 17,
     "metadata": {},
     "output_type": "execute_result"
    }
   ],
   "source": [
    "#You can try it out yourself:\n",
    "get_sentiment(\"WOW WHAT A CUTE DOG\")"
   ]
  },
  {
   "cell_type": "markdown",
   "metadata": {},
   "source": [
    "Now lets add our sentiment score to our data:"
   ]
  },
  {
   "cell_type": "code",
   "execution_count": 18,
   "metadata": {
    "ExecuteTime": {
     "end_time": "2024-09-12T11:00:39.295374Z",
     "start_time": "2024-09-12T11:00:38.477680Z"
    }
   },
   "outputs": [
    {
     "data": {
      "text/html": [
       "<div>\n",
       "<style scoped>\n",
       "    .dataframe tbody tr th:only-of-type {\n",
       "        vertical-align: middle;\n",
       "    }\n",
       "\n",
       "    .dataframe tbody tr th {\n",
       "        vertical-align: top;\n",
       "    }\n",
       "\n",
       "    .dataframe thead th {\n",
       "        text-align: right;\n",
       "    }\n",
       "</style>\n",
       "<table border=\"1\" class=\"dataframe\">\n",
       "  <thead>\n",
       "    <tr style=\"text-align: right;\">\n",
       "      <th></th>\n",
       "      <th>doggo_rating</th>\n",
       "      <th>comment</th>\n",
       "      <th>sentiment</th>\n",
       "    </tr>\n",
       "  </thead>\n",
       "  <tbody>\n",
       "    <tr>\n",
       "      <th>0</th>\n",
       "      <td>12</td>\n",
       "      <td>This Coco. At first I thought cloud cloud bork...</td>\n",
       "      <td>1</td>\n",
       "    </tr>\n",
       "    <tr>\n",
       "      <th>1</th>\n",
       "      <td>14</td>\n",
       "      <td>This Carlton. He's hail hero save life dog nee...</td>\n",
       "      <td>1</td>\n",
       "    </tr>\n",
       "    <tr>\n",
       "      <th>2</th>\n",
       "      <td>13</td>\n",
       "      <td>This Carolina, Dawson, Claudia, Cecilia. They ...</td>\n",
       "      <td>1</td>\n",
       "    </tr>\n",
       "    <tr>\n",
       "      <th>3</th>\n",
       "      <td>14</td>\n",
       "      <td>This Cookie. Some people wear heart sleeve. Sh...</td>\n",
       "      <td>0</td>\n",
       "    </tr>\n",
       "    <tr>\n",
       "      <th>4</th>\n",
       "      <td>13</td>\n",
       "      <td>We don’t rate snowflakes. We rate dogs. This s...</td>\n",
       "      <td>1</td>\n",
       "    </tr>\n",
       "    <tr>\n",
       "      <th>...</th>\n",
       "      <td>...</td>\n",
       "      <td>...</td>\n",
       "      <td>...</td>\n",
       "    </tr>\n",
       "    <tr>\n",
       "      <th>3038</th>\n",
       "      <td>13</td>\n",
       "      <td>This Tilly. She's check pup you. Hopes ok. If ...</td>\n",
       "      <td>1</td>\n",
       "    </tr>\n",
       "    <tr>\n",
       "      <th>3039</th>\n",
       "      <td>7</td>\n",
       "      <td>This Biden. Biden tripped...</td>\n",
       "      <td>0</td>\n",
       "    </tr>\n",
       "    <tr>\n",
       "      <th>3040</th>\n",
       "      <td>14</td>\n",
       "      <td>This Seamus. He diagnose terminal brain cancer...</td>\n",
       "      <td>0</td>\n",
       "    </tr>\n",
       "    <tr>\n",
       "      <th>3041</th>\n",
       "      <td>12</td>\n",
       "      <td>This Brewski. He’s step dad. He’s dad step up....</td>\n",
       "      <td>0</td>\n",
       "    </tr>\n",
       "    <tr>\n",
       "      <th>3042</th>\n",
       "      <td>12</td>\n",
       "      <td>This Freddie. He want make sure don’t forget p...</td>\n",
       "      <td>1</td>\n",
       "    </tr>\n",
       "  </tbody>\n",
       "</table>\n",
       "<p>3043 rows × 3 columns</p>\n",
       "</div>"
      ],
      "text/plain": [
       "      doggo_rating                                            comment  \\\n",
       "0               12  This Coco. At first I thought cloud cloud bork...   \n",
       "1               14  This Carlton. He's hail hero save life dog nee...   \n",
       "2               13  This Carolina, Dawson, Claudia, Cecilia. They ...   \n",
       "3               14  This Cookie. Some people wear heart sleeve. Sh...   \n",
       "4               13  We don’t rate snowflakes. We rate dogs. This s...   \n",
       "...            ...                                                ...   \n",
       "3038            13  This Tilly. She's check pup you. Hopes ok. If ...   \n",
       "3039             7                       This Biden. Biden tripped...   \n",
       "3040            14  This Seamus. He diagnose terminal brain cancer...   \n",
       "3041            12  This Brewski. He’s step dad. He’s dad step up....   \n",
       "3042            12  This Freddie. He want make sure don’t forget p...   \n",
       "\n",
       "      sentiment  \n",
       "0             1  \n",
       "1             1  \n",
       "2             1  \n",
       "3             0  \n",
       "4             1  \n",
       "...         ...  \n",
       "3038          1  \n",
       "3039          0  \n",
       "3040          0  \n",
       "3041          0  \n",
       "3042          1  \n",
       "\n",
       "[3043 rows x 3 columns]"
      ]
     },
     "execution_count": 18,
     "metadata": {},
     "output_type": "execute_result"
    }
   ],
   "source": [
    "df['sentiment'] = df['comment'].apply(get_sentiment)\n",
    "df\n"
   ]
  },
  {
   "cell_type": "markdown",
   "metadata": {},
   "source": [
    "Lets see if there is any correlation with our data?"
   ]
  },
  {
   "cell_type": "markdown",
   "metadata": {
    "collapsed": false
   },
   "source": []
  },
  {
   "cell_type": "code",
   "execution_count": 19,
   "metadata": {
    "ExecuteTime": {
     "end_time": "2024-09-12T11:00:39.308568Z",
     "start_time": "2024-09-12T11:00:39.296389Z"
    }
   },
   "outputs": [
    {
     "name": "stdout",
     "output_type": "stream",
     "text": [
      "0.04960499661064983\n"
     ]
    }
   ],
   "source": [
    "correlation = df['doggo_rating'].corr(df['sentiment'])\n",
    "print(correlation)"
   ]
  },
  {
   "cell_type": "markdown",
   "metadata": {},
   "source": [
    "The correlation is very low. Anything about 0.4 is deemed as [weak positive correlation](https://www.ncl.ac.uk/webtemplate/ask-assets/external/maths-resources/statistics/regression-and-correlation/strength-of-correlation.html).\n",
    "\n",
    "Lets try diving our data into positive and negative ratings. First lets look at our distribution of ratings:"
   ]
  },
  {
   "cell_type": "code",
   "execution_count": 20,
   "metadata": {
    "ExecuteTime": {
     "end_time": "2024-09-12T11:00:40.389810Z",
     "start_time": "2024-09-12T11:00:39.310692Z"
    }
   },
   "outputs": [
    {
     "data": {
      "image/png": "[encoded data removed]",
      "text/plain": [
       "<Figure size 640x480 with 1 Axes>"
      ]
     },
     "metadata": {},
     "output_type": "display_data"
    }
   ],
   "source": [
    "hist = df.hist(column = 'doggo_rating', bins=[0, 1, 2, 3, 4, 5, 6, 7, 8 ,9, 10, 11, 12, 13, 14])"
   ]
  },
  {
   "cell_type": "markdown",
   "metadata": {},
   "source": [
    "#### Divide dataset based on ratings\n",
    "\n",
    "Lets make a binary variable that is `1` for any rating above 10 and `0` for any rating 10 or below:"
   ]
  },
  {
   "cell_type": "code",
   "execution_count": 21,
   "metadata": {
    "ExecuteTime": {
     "end_time": "2024-09-12T11:00:40.410920Z",
     "start_time": "2024-09-12T11:00:40.394831Z"
    }
   },
   "outputs": [
    {
     "data": {
      "text/html": [
       "<div>\n",
       "<style scoped>\n",
       "    .dataframe tbody tr th:only-of-type {\n",
       "        vertical-align: middle;\n",
       "    }\n",
       "\n",
       "    .dataframe tbody tr th {\n",
       "        vertical-align: top;\n",
       "    }\n",
       "\n",
       "    .dataframe thead th {\n",
       "        text-align: right;\n",
       "    }\n",
       "</style>\n",
       "<table border=\"1\" class=\"dataframe\">\n",
       "  <thead>\n",
       "    <tr style=\"text-align: right;\">\n",
       "      <th></th>\n",
       "      <th>doggo_rating</th>\n",
       "      <th>comment</th>\n",
       "      <th>sentiment</th>\n",
       "      <th>above_ten</th>\n",
       "    </tr>\n",
       "  </thead>\n",
       "  <tbody>\n",
       "    <tr>\n",
       "      <th>0</th>\n",
       "      <td>12</td>\n",
       "      <td>This Coco. At first I thought cloud cloud bork...</td>\n",
       "      <td>1</td>\n",
       "      <td>1</td>\n",
       "    </tr>\n",
       "    <tr>\n",
       "      <th>1</th>\n",
       "      <td>14</td>\n",
       "      <td>This Carlton. He's hail hero save life dog nee...</td>\n",
       "      <td>1</td>\n",
       "      <td>1</td>\n",
       "    </tr>\n",
       "    <tr>\n",
       "      <th>2</th>\n",
       "      <td>13</td>\n",
       "      <td>This Carolina, Dawson, Claudia, Cecilia. They ...</td>\n",
       "      <td>1</td>\n",
       "      <td>1</td>\n",
       "    </tr>\n",
       "    <tr>\n",
       "      <th>3</th>\n",
       "      <td>14</td>\n",
       "      <td>This Cookie. Some people wear heart sleeve. Sh...</td>\n",
       "      <td>0</td>\n",
       "      <td>1</td>\n",
       "    </tr>\n",
       "    <tr>\n",
       "      <th>4</th>\n",
       "      <td>13</td>\n",
       "      <td>We don’t rate snowflakes. We rate dogs. This s...</td>\n",
       "      <td>1</td>\n",
       "      <td>1</td>\n",
       "    </tr>\n",
       "    <tr>\n",
       "      <th>...</th>\n",
       "      <td>...</td>\n",
       "      <td>...</td>\n",
       "      <td>...</td>\n",
       "      <td>...</td>\n",
       "    </tr>\n",
       "    <tr>\n",
       "      <th>3038</th>\n",
       "      <td>13</td>\n",
       "      <td>This Tilly. She's check pup you. Hopes ok. If ...</td>\n",
       "      <td>1</td>\n",
       "      <td>1</td>\n",
       "    </tr>\n",
       "    <tr>\n",
       "      <th>3039</th>\n",
       "      <td>7</td>\n",
       "      <td>This Biden. Biden tripped...</td>\n",
       "      <td>0</td>\n",
       "      <td>0</td>\n",
       "    </tr>\n",
       "    <tr>\n",
       "      <th>3040</th>\n",
       "      <td>14</td>\n",
       "      <td>This Seamus. He diagnose terminal brain cancer...</td>\n",
       "      <td>0</td>\n",
       "      <td>1</td>\n",
       "    </tr>\n",
       "    <tr>\n",
       "      <th>3041</th>\n",
       "      <td>12</td>\n",
       "      <td>This Brewski. He’s step dad. He’s dad step up....</td>\n",
       "      <td>0</td>\n",
       "      <td>1</td>\n",
       "    </tr>\n",
       "    <tr>\n",
       "      <th>3042</th>\n",
       "      <td>12</td>\n",
       "      <td>This Freddie. He want make sure don’t forget p...</td>\n",
       "      <td>1</td>\n",
       "      <td>1</td>\n",
       "    </tr>\n",
       "  </tbody>\n",
       "</table>\n",
       "<p>3043 rows × 4 columns</p>\n",
       "</div>"
      ],
      "text/plain": [
       "      doggo_rating                                            comment  \\\n",
       "0               12  This Coco. At first I thought cloud cloud bork...   \n",
       "1               14  This Carlton. He's hail hero save life dog nee...   \n",
       "2               13  This Carolina, Dawson, Claudia, Cecilia. They ...   \n",
       "3               14  This Cookie. Some people wear heart sleeve. Sh...   \n",
       "4               13  We don’t rate snowflakes. We rate dogs. This s...   \n",
       "...            ...                                                ...   \n",
       "3038            13  This Tilly. She's check pup you. Hopes ok. If ...   \n",
       "3039             7                       This Biden. Biden tripped...   \n",
       "3040            14  This Seamus. He diagnose terminal brain cancer...   \n",
       "3041            12  This Brewski. He’s step dad. He’s dad step up....   \n",
       "3042            12  This Freddie. He want make sure don’t forget p...   \n",
       "\n",
       "      sentiment  above_ten  \n",
       "0             1          1  \n",
       "1             1          1  \n",
       "2             1          1  \n",
       "3             0          1  \n",
       "4             1          1  \n",
       "...         ...        ...  \n",
       "3038          1          1  \n",
       "3039          0          0  \n",
       "3040          0          1  \n",
       "3041          0          1  \n",
       "3042          1          1  \n",
       "\n",
       "[3043 rows x 4 columns]"
      ]
     },
     "execution_count": 21,
     "metadata": {},
     "output_type": "execute_result"
    }
   ],
   "source": [
    "df['above_ten'] = np.where(df['doggo_rating'] > 11, 1, 0)\n",
    "df"
   ]
  },
  {
   "cell_type": "markdown",
   "metadata": {},
   "source": [
    "Lets look at the distribution of these variables:"
   ]
  },
  {
   "cell_type": "code",
   "execution_count": 22,
   "metadata": {
    "ExecuteTime": {
     "end_time": "2024-09-12T11:00:40.420963Z",
     "start_time": "2024-09-12T11:00:40.413941Z"
    }
   },
   "outputs": [
    {
     "name": "stdout",
     "output_type": "stream",
     "text": [
      "above_ten\n",
      "1    2603\n",
      "0     440\n",
      "Name: count, dtype: int64\n"
     ]
    }
   ],
   "source": [
    "print(df['above_ten'].value_counts())"
   ]
  },
  {
   "cell_type": "markdown",
   "metadata": {},
   "source": [
    "Now lets compare our correlation again with our new variable and our sentiment:"
   ]
  },
  {
   "cell_type": "code",
   "execution_count": 25,
   "metadata": {
    "ExecuteTime": {
     "end_time": "2024-09-12T11:02:02.257842Z",
     "start_time": "2024-09-12T11:02:02.251074Z"
    }
   },
   "outputs": [
    {
     "name": "stdout",
     "output_type": "stream",
     "text": [
      "0.19216913054787244\n"
     ]
    }
   ],
   "source": [
    "correlation = df['above_ten'].corr(df['sentiment'])\n",
    "print(correlation)"
   ]
  },
  {
   "cell_type": "markdown",
   "metadata": {},
   "source": [
    "It is slightly higher but still would be deemed as very weak positive correlation. \n",
    "\n",
    "Now lets see if we used our sentiment score for classification how it would perform:"
   ]
  },
  {
   "cell_type": "code",
   "execution_count": 24,
   "metadata": {
    "ExecuteTime": {
     "end_time": "2024-09-12T11:01:55.639679Z",
     "start_time": "2024-09-12T11:01:55.621886Z"
    }
   },
   "outputs": [
    {
     "name": "stdout",
     "output_type": "stream",
     "text": [
      "              precision    recall  f1-score   support\n",
      "\n",
      "           0       0.25      0.49      0.33       440\n",
      "           1       0.90      0.76      0.82      2603\n",
      "\n",
      "    accuracy                           0.72      3043\n",
      "   macro avg       0.58      0.62      0.58      3043\n",
      "weighted avg       0.80      0.72      0.75      3043\n"
     ]
    }
   ],
   "source": [
    "print(classification_report(df['above_ten'], df['sentiment']))"
   ]
  },
  {
   "cell_type": "markdown",
   "metadata": {},
   "source": [
    "The results are not terrible, if we were to treat our sentiment analyser as a naive classifier. \n",
    "\n",
    "## Tasks\n",
    "\n",
    "**Task 1** Can you change the feature used for determining positive or negative sentiment in [the cell that defines the sentiment analysis function](#sentiment-analysis-function) does that improve the correlation and/or the classification report?\n",
    "\n",
    "**Task 2** If you were to [divide up the dataset based on ratings](#divide-dataset-based-on-ratings) differently, do you get better or worse results from correlation and/or the classification report?\n",
    "\n",
    "**Task 3** If you were to put the real valued sentiment scores into the dataframe (in [the cell that defines the sentiment analysis function](#sentiment-analysis-function)) instead of binary values, does that improve the correlation coefficient?\n",
    "\n",
    "### Bonus tasks\n",
    "\n",
    "**Task A** Can you train a classifier on this dataset? How does that compare to the using sentiment analysis as a classifier?\n",
    "\n",
    "**Task B** Can you find another dataset on [kaggle](https://www.kaggle.com/) to perform sentiment anlysis on? Make a copy of this notebook and adapt it to the new dataset."
   ]
  }
 ],
 "metadata": {
  "kernelspec": {
   "display_name": "Python 3",
   "language": "python",
   "name": "python3"
  },
  "language_info": {
   "codemirror_mode": {
    "name": "ipython",
    "version": 3
   },
   "file_extension": ".py",
   "mimetype": "text/x-python",
   "name": "python",
   "nbconvert_exporter": "python",
   "pygments_lexer": "ipython3",
   "version": "3.11.9"
  },
  "orig_nbformat": 4
 },
 "nbformat": 4,
 "nbformat_minor": 2
}
