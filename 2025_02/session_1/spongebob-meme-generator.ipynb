{
 "cells": [
  {
   "cell_type": "markdown",
   "id": "193c7ccd",
   "metadata": {},
   "source": [
    "# Bonus Exercise: Spongebob Meme Generator"
   ]
  },
  {
   "cell_type": "markdown",
   "id": "250dffe7",
   "metadata": {},
   "source": [
    "This bonus exercise is designed for you to practice some more coding and string manipulation.The task is to make a function that is going to take a string as input, then build a new string where we alter the case of the characters, to make a generator of the [mocking spongebob squarepants meme](https://knowyourmeme.com/memes/mocking-spongebob)."
   ]
  },
  {
   "cell_type": "markdown",
   "id": "ea51e4e0",
   "metadata": {},
   "source": [
    "![Spongebob meme](https://i.kym-cdn.com/entries/icons/original/000/022/940/mockingspongebobbb.jpg)"
   ]
  },
  {
   "cell_type": "markdown",
   "id": "fd127c86",
   "metadata": {},
   "source": [
    "tHe TaSk iS tO MaKe a fUnCtIoN ThAt iS GoInG To tAkE A StRiNg aS InPuT, tHeN BuIlD A NeW StRiNg wHeRe wE AlTeR ThE CaSe oF ThE ChArAcTeRs, To mAkE A GeNeRaToR Of tHe mOcKiNg sPoNgEbOb sQuArEpAnTs mEmE."
   ]
  },
  {
   "cell_type": "markdown",
   "id": "b840cb70",
   "metadata": {},
   "source": [
    "## Useful code for the task\n",
    "\n",
    "Here are some examples of code snippets that can be used for completing the task:\n",
    "\n",
    "1: defining a string as a variable:"
   ]
  },
  {
   "cell_type": "code",
   "execution_count": 1,
   "id": "70a2e43e",
   "metadata": {},
   "outputs": [],
   "source": [
    "my_string = 'This is my string'"
   ]
  },
  {
   "cell_type": "markdown",
   "id": "424a04c2",
   "metadata": {},
   "source": [
    "2: making a string lowercase:"
   ]
  },
  {
   "cell_type": "code",
   "execution_count": 2,
   "id": "cafba7af",
   "metadata": {},
   "outputs": [
    {
     "name": "stdout",
     "output_type": "stream",
     "text": [
      "this is my string\n"
     ]
    }
   ],
   "source": [
    "print(my_string.lower())"
   ]
  },
  {
   "cell_type": "markdown",
   "id": "c642249a",
   "metadata": {},
   "source": [
    "3: making a string uppercase:"
   ]
  },
  {
   "cell_type": "code",
   "execution_count": 3,
   "id": "b657852c",
   "metadata": {},
   "outputs": [
    {
     "name": "stdout",
     "output_type": "stream",
     "text": [
      "THIS IS MY STRING\n"
     ]
    }
   ],
   "source": [
    "print(my_string.upper())"
   ]
  },
  {
   "cell_type": "markdown",
   "id": "33d31d47",
   "metadata": {},
   "source": [
    "4: counting the number of characters in a string:"
   ]
  },
  {
   "cell_type": "code",
   "execution_count": 4,
   "id": "403aa61e",
   "metadata": {},
   "outputs": [
    {
     "name": "stdout",
     "output_type": "stream",
     "text": [
      "my string has 17 characters\n"
     ]
    }
   ],
   "source": [
    "string_length = len(my_string)\n",
    "print(f'my string has {string_length} characters')"
   ]
  },
  {
   "cell_type": "markdown",
   "id": "b6d89954",
   "metadata": {},
   "source": [
    "5: determing whether the length of a string is odd or even:"
   ]
  },
  {
   "cell_type": "code",
   "execution_count": 5,
   "id": "4aa492ab",
   "metadata": {},
   "outputs": [
    {
     "name": "stdout",
     "output_type": "stream",
     "text": [
      "the length of my string is odd\n"
     ]
    }
   ],
   "source": [
    "if string_length % 2 == 0:\n",
    "    print('the length of my string is even')\n",
    "else:\n",
    "    print('the length of my string is odd')"
   ]
  },
  {
   "cell_type": "markdown",
   "id": "25a3a0af",
   "metadata": {},
   "source": [
    "6: determining the case of each letter in a string:"
   ]
  },
  {
   "cell_type": "code",
   "execution_count": 6,
   "id": "9625e0a1",
   "metadata": {},
   "outputs": [
    {
     "name": "stdout",
     "output_type": "stream",
     "text": [
      "Character 0 (T) is uppercase\n",
      "Character 1 (h) is lowercase\n",
      "Character 2 (i) is lowercase\n",
      "Character 3 (s) is lowercase\n",
      "Character 4 ( ) does not have a case\n",
      "Character 5 (i) is lowercase\n",
      "Character 6 (s) is lowercase\n",
      "Character 7 ( ) does not have a case\n",
      "Character 8 (m) is lowercase\n",
      "Character 9 (y) is lowercase\n",
      "Character 10 ( ) does not have a case\n",
      "Character 11 (s) is lowercase\n",
      "Character 12 (t) is lowercase\n",
      "Character 13 (r) is lowercase\n",
      "Character 14 (i) is lowercase\n",
      "Character 15 (n) is lowercase\n",
      "Character 16 (g) is lowercase\n"
     ]
    }
   ],
   "source": [
    "for i, char in enumerate(my_string):\n",
    "    if char.isupper():\n",
    "        print(f'Character {i} ({char}) is uppercase')\n",
    "    elif char.islower():\n",
    "        print(f'Character {i} ({char}) is lowercase')\n",
    "    else:\n",
    "        print(f'Character {i} ({char}) does not have a case')\n"
   ]
  },
  {
   "cell_type": "markdown",
   "id": "2dc51971",
   "metadata": {},
   "source": [
    "## The task\n",
    "\n",
    "We are going to make a function that turns any input string into the text in the style of the mocking spongebob meme (like [this website](https://danny.page/spongebob.html)). \n",
    "\n",
    "So for instance if we put in the sentence:\n",
    "\n",
    "'Coding can be fun!'\n",
    "\n",
    "We will get back something like:\n",
    "\n",
    "'cOdInG cAn bE FuN'\n",
    "\n",
    "Use the following structure of a function as a template to start working from:"
   ]
  },
  {
   "cell_type": "code",
   "execution_count": 15,
   "id": "4779be71",
   "metadata": {},
   "outputs": [],
   "source": [
    "def mocking_spongebob_template(input_string):\n",
    "    # Placeholder variable for the new string variable that our function will return\n",
    "    new_string = \"\"\n",
    "\n",
    "    # Use a for loop to iterate over each character in the list\n",
    "    for i, char in enumerate(input_string):\n",
    "\n",
    "        # This is how we can build a new string character by character \n",
    "        # Tip: we probably want to use an if statement to decide whether letters should be upper case or lower case\n",
    "        new_string += char.lower() \n",
    "\n",
    "    # Return our new string\n",
    "    return new_string"
   ]
  },
  {
   "cell_type": "markdown",
   "id": "2875885f",
   "metadata": {},
   "source": [
    "Currently the template only makes things lowercase:"
   ]
  },
  {
   "cell_type": "code",
   "execution_count": 8,
   "id": "207fdf59",
   "metadata": {},
   "outputs": [
    {
     "name": "stdout",
     "output_type": "stream",
     "text": [
      "hello\n"
     ]
    }
   ],
   "source": [
    "print(mocking_spongebob_template('HELLO'))"
   ]
  },
  {
   "cell_type": "markdown",
   "id": "5c0f4f3d",
   "metadata": {},
   "source": [
    "Your job is to make it alternate the case between uppercase and lowercase like in the examples above. Start editing the code below to improve upon the function in the reference: "
   ]
  },
  {
   "cell_type": "code",
   "execution_count": 9,
   "id": "79831a8c",
   "metadata": {},
   "outputs": [],
   "source": [
    "def mocking_spongebob(input_string):\n",
    "    # Placeholder variable for the new string variable that our function will return\n",
    "    new_string = \"\"\n",
    "\n",
    "    # Use a for loop to iterate over each character in the list\n",
    "    for i, char in enumerate(input_string):\n",
    "\n",
    "        # This is how we can build a new string character by character \n",
    "        # Tip: we probably want to use an if statement to decide whether letters should be upper case or lower case\n",
    "        new_string += char.lower() \n",
    "\n",
    "    # Return our new string\n",
    "    return new_string"
   ]
  },
  {
   "cell_type": "markdown",
   "id": "1ae18322",
   "metadata": {},
   "source": [
    "Test out your code by putting in different strings and printing the results:"
   ]
  },
  {
   "cell_type": "code",
   "execution_count": 10,
   "id": "0aea390c",
   "metadata": {},
   "outputs": [
    {
     "name": "stdout",
     "output_type": "stream",
     "text": [
      "coding can be fun!\n"
     ]
    }
   ],
   "source": [
    "print(mocking_spongebob('Coding can be fun!'))"
   ]
  },
  {
   "cell_type": "markdown",
   "id": "03f52e8c",
   "metadata": {},
   "source": [
    "#### Once you have done that, lets try another variation"
   ]
  },
  {
   "cell_type": "markdown",
   "id": "d4c974e7",
   "metadata": {},
   "source": [
    "###### Randomised moCKiNG SponGeBOB\n",
    "\n",
    "We can use a random number generator to control wether the next character is uppercase or lowercase.  First lets import the random library:"
   ]
  },
  {
   "cell_type": "code",
   "execution_count": 11,
   "id": "6ace94cf",
   "metadata": {},
   "outputs": [],
   "source": [
    "import random"
   ]
  },
  {
   "cell_type": "markdown",
   "id": "cc57733b",
   "metadata": {},
   "source": [
    "If we call the function random.random() we will get a random number between 0 and 1:\n",
    "_Try re-running the cell multiple times to see how the results change_"
   ]
  },
  {
   "cell_type": "code",
   "execution_count": 12,
   "id": "e6960174",
   "metadata": {},
   "outputs": [
    {
     "name": "stdout",
     "output_type": "stream",
     "text": [
      "0.7366478595555931\n"
     ]
    }
   ],
   "source": [
    "random_number = random.random()\n",
    "print(random_number)"
   ]
  },
  {
   "cell_type": "markdown",
   "id": "ea7835dd",
   "metadata": {},
   "source": [
    "Now lets incorporate this into our function. Using this template, add the code that controls whether the string should be uppercase or lowercase based on the value of the random number. \n",
    "\n",
    "As the random numbers are generated uniformly, so 50% of the time they will be greaten than (>) 0.5 and the other 50% of the time they will be less than (<) 0.5:"
   ]
  },
  {
   "cell_type": "code",
   "execution_count": 13,
   "id": "7e54798d",
   "metadata": {},
   "outputs": [],
   "source": [
    "def random_mocking_spongebob(input_string):\n",
    "    # Placeholder variable for the new string variable that our function will return\n",
    "    new_string = \"\"\n",
    "\n",
    "    # Use a for loop to iterate over each character in the list\n",
    "    for i, char in enumerate(input_string):\n",
    "        # Generate a new random number each time we move onto the next character\n",
    "        random_number = random.random()\n",
    "        \n",
    "        # Tip: we want to use another if statement to randomly decide whether letters should be upper case or lower case\n",
    "        new_string += char.lower() \n",
    "\n",
    "    # Return our new string\n",
    "    return new_string"
   ]
  },
  {
   "cell_type": "code",
   "execution_count": 14,
   "id": "e2cc3e7e",
   "metadata": {},
   "outputs": [
    {
     "name": "stdout",
     "output_type": "stream",
     "text": [
      "coding can be fun!\n"
     ]
    }
   ],
   "source": [
    "print(random_mocking_spongebob('Coding can be fun!'))"
   ]
  },
  {
   "cell_type": "markdown",
   "id": "a9170ed8",
   "metadata": {},
   "source": [
    "Try playing around with different input strings and different thresholds for if the characters should be upper or lower case to see how that affects the results."
   ]
  },
  {
   "cell_type": "markdown",
   "id": "3b61d80a",
   "metadata": {},
   "source": [
    "#### Bonus bonus exercises\n",
    "\n",
    "OK we have now made a function that alternates between upper and lowercase consecutively, and a function that alternates randomly. If you want to take this further can you:\n",
    "\n",
    "- Build a function that ignores special characters and spaces when alternating between upper and lowercase?\n",
    "- Build a function that checks the case of the first character, and makes sure in the resulting string the first character is the opposite case?\n"
   ]
  }
 ],
 "metadata": {
  "kernelspec": {
   "display_name": "Python 3",
   "language": "python",
   "name": "python3"
  },
  "language_info": {
   "codemirror_mode": {
    "name": "ipython",
    "version": 3
   },
   "file_extension": ".py",
   "mimetype": "text/x-python",
   "name": "python",
   "nbconvert_exporter": "python",
   "pygments_lexer": "ipython3",
   "version": "3.11.9"
  }
 },
 "nbformat": 4,
 "nbformat_minor": 5
}
