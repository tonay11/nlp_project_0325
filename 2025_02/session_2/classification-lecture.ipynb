{
 "cells": [
  {
   "cell_type": "code",
   "execution_count": 30,
   "metadata": {
    "ExecuteTime": {
     "end_time": "2024-09-12T09:50:31.350301Z",
     "start_time": "2024-09-12T09:50:31.346834Z"
    },
    "collapsed": false
   },
   "outputs": [],
   "source": [
    "# uncomment below and run once\n",
    "! pip install nltk scikit-learn"
   ]
  },
  {
   "cell_type": "code",
   "execution_count": null,
   "metadata": {},
   "outputs": [],
   "source": [
    "# notebook by prof. Rebecca Fiebrink\n",
    "import nltk\n",
    "from nltk.stem.wordnet import WordNetLemmatizer\n",
    "from sklearn.feature_extraction import _stop_words\n",
    "from sklearn.metrics.pairwise import cosine_similarity as cosine\n",
    "from sklearn.feature_extraction.text import TfidfVectorizer\n",
    "from sklearn.feature_extraction.text import CountVectorizer\n",
    "from sklearn.feature_extraction.text import TfidfTransformer\n",
    "from sklearn.decomposition import LatentDirichletAllocation\n",
    "from nltk.tokenize.casual import casual_tokenize\n",
    "import pandas as pd\n",
    "#from nlpia.data.loaders import get_data\n",
    "from sklearn.decomposition import TruncatedSVD\n",
    "import numpy as np\n",
    "# pd.set_option('display.max_rows', None)\n",
    "# pd.set_option('display.max_columns', None)\n",
    "pd.set_option('display.width', None)\n",
    "pd.set_option('display.max_colwidth', None)"
   ]
  },
  {
   "cell_type": "markdown",
   "metadata": {},
   "source": [
    "# Session 12 Classification "
   ]
  },
  {
   "cell_type": "markdown",
   "metadata": {},
   "source": [
    "### Pandas Data Frames \n",
    "\n",
    "Hopefully by now we have a good handle on the data structures for holding data in Python. We've seen **vectors** (1D arrays) and **matrices** (2D arrays, or arrays of arrays). These can either be a native Python `list`, or and `numpy array`. \n",
    "\n",
    "We've also seen data frames from the pandas library a few times already, and we've mainly been using them for their nice display qualities, we'll just formally introduce them now as they will start making ever more appearances! \n",
    "\n",
    "You can initialise them from an existing array, and use column and row names to index them instead of just numbers!"
   ]
  },
  {
   "cell_type": "code",
   "execution_count": 31,
   "metadata": {
    "ExecuteTime": {
     "end_time": "2024-09-12T09:50:31.478199Z",
     "start_time": "2024-09-12T09:50:31.474381Z"
    }
   },
   "outputs": [],
   "source": [
    "a = np.array([1,2,3,4])"
   ]
  },
  {
   "cell_type": "code",
   "execution_count": 32,
   "metadata": {
    "ExecuteTime": {
     "end_time": "2024-09-12T09:50:31.486446Z",
     "start_time": "2024-09-12T09:50:31.479203Z"
    }
   },
   "outputs": [
    {
     "name": "stdout",
     "output_type": "stream",
     "text": [
      "                col1  col2  another boring name\n",
      "row1               0     1                    2\n",
      "row2               3     4                    5\n",
      "row3 your boat     6     7                    8\n"
     ]
    }
   ],
   "source": [
    "# Initialising \n",
    "# Pass an array or list into the constructor \n",
    "a = np.arange(9).reshape((3,3))\n",
    "df = pd.DataFrame(a)\n",
    "df = pd.DataFrame(a, columns = [\"col1\",\"col2\",\"another boring name\"])\n",
    "df = pd.DataFrame(a, index = [\"row1\",\"row2\", \"row3 your boat\"], columns = [\"col1\",\"col2\",\"another boring name\"])\n",
    "print(df)"
   ]
  },
  {
   "cell_type": "code",
   "execution_count": 33,
   "metadata": {
    "ExecuteTime": {
     "end_time": "2024-09-12T09:50:31.493729Z",
     "start_time": "2024-09-12T09:50:31.487451Z"
    }
   },
   "outputs": [
    {
     "name": "stdout",
     "output_type": "stream",
     "text": [
      "0\n",
      "0\n",
      "col1                   0\n",
      "col2                   1\n",
      "another boring name    2\n",
      "Name: row1, dtype: int64\n",
      "col1                   3\n",
      "col2                   4\n",
      "another boring name    5\n",
      "Name: row2, dtype: int64\n",
      "4\n"
     ]
    },
    {
     "name": "stderr",
     "output_type": "stream",
     "text": [
      "C:\\Users\\Marysia\\AppData\\Local\\Temp\\ipykernel_36580\\2024248313.py:3: FutureWarning: Series.__getitem__ treating keys as positions is deprecated. In a future version, integer keys will always be treated as labels (consistent with DataFrame behavior). To access a value by position, use `ser.iloc[pos]`\n",
      "  print(df[\"col1\"][0])\n"
     ]
    }
   ],
   "source": [
    "#Accessing by name or number\n",
    "print(df[\"col1\"][\"row1\"])\n",
    "print(df[\"col1\"][0])\n",
    "\n",
    "#iloc for indexes\n",
    "print(df.iloc[0])\n",
    "print(df.iloc[1])\n",
    "print(df.iloc[1, 1])"
   ]
  },
  {
   "cell_type": "markdown",
   "metadata": {},
   "source": [
    "### The NewsGroup Dataset\n",
    "\n",
    "This dataset contains newsgroup posts about space and about hockey."
   ]
  },
  {
   "cell_type": "code",
   "execution_count": 34,
   "metadata": {
    "ExecuteTime": {
     "end_time": "2024-09-12T09:50:31.524927Z",
     "start_time": "2024-09-12T09:50:31.494735Z"
    }
   },
   "outputs": [],
   "source": [
    "df = pd.read_csv(\"../data/space_hockey.csv\")"
   ]
  },
  {
   "cell_type": "code",
   "execution_count": 35,
   "metadata": {
    "ExecuteTime": {
     "end_time": "2024-09-12T09:50:31.533167Z",
     "start_time": "2024-09-12T09:50:31.525932Z"
    }
   },
   "outputs": [
    {
     "data": {
      "text/html": [
       "<div>\n",
       "<style scoped>\n",
       "    .dataframe tbody tr th:only-of-type {\n",
       "        vertical-align: middle;\n",
       "    }\n",
       "\n",
       "    .dataframe tbody tr th {\n",
       "        vertical-align: top;\n",
       "    }\n",
       "\n",
       "    .dataframe thead th {\n",
       "        text-align: right;\n",
       "    }\n",
       "</style>\n",
       "<table border=\"1\" class=\"dataframe\">\n",
       "  <thead>\n",
       "    <tr style=\"text-align: right;\">\n",
       "      <th></th>\n",
       "      <th>text</th>\n",
       "      <th>label</th>\n",
       "    </tr>\n",
       "  </thead>\n",
       "  <tbody>\n",
       "    <tr>\n",
       "      <th>0</th>\n",
       "      <td>From: palmer@cco.caltech.edu (David M. Palmer)\\nSubject: Re: HST Servicing Mission Scheduled for 11 Days\\nOrganization: California Institute of Technology, Pasadena\\nLines: 30\\nNNTP-Posting-Host: alumni.caltech.edu\\n\\nprb@access.digex.net (Pat) writes:\\n\\n&gt;In article &lt;C6A2At.E9z@zoo.toronto.edu&gt; henry@zoo.toronto.edu (Henry Spencer) writes:\\n&gt;&gt;\\n&gt;&gt;No, the thing is designed to be retrievable, in a pinch.  Indeed, this\\n&gt;&gt;dictated a rather odd design for the solar arrays, since they had to be\\n&gt;&gt;retractable as well as extendable, and may thus have indirectly contributed\\n&gt;&gt;to the array-flapping problems.\\n\\n\\n&gt;Why not design the solar arrays to be detachable.  if the shuttle is going\\n&gt;to retunr the HST,  what bother are some arrays.  just fit them with a quick\\n&gt; release.  one  space walk,  or use the second canadarm to remove the arrays.\\n\\nYou may want to put Hubble back in the payload bay for a reboost,\\nand you don't want to clip off the panels each time.\\n\\nFor the Gamma-Ray Observatory, one of the design requirements was that\\nthere be no stored-energy mecahnisms (springs, explosive squibs, gas shocks,\\netc.) used for deployment.  This was partially so that everything could\\nbe reeled back in to put it back in the payload bay, and partially for\\nsafety considerations.  (I've heard that the wings on a cruise missile\\nwould cut you in half if you were standing in their swath when they opened.)\\n\\nBack when the shuttle would be going up every other day with a cost to\\norbit of $3.95 per pound :-), everybody designed things for easy servicing.\\n\\n-- \\n\\t\\tDavid M. Palmer\\t\\tpalmer@alumni.caltech.edu\\n\\t\\t\\t\\t\\tpalmer@tgrs.gsfc.nasa.gov\\n</td>\n",
       "      <td>0</td>\n",
       "    </tr>\n",
       "    <tr>\n",
       "      <th>1</th>\n",
       "      <td>From: henry@zoo.toronto.edu (Henry Spencer)\\nSubject: Re: Rocket Types\\nOrganization: U of Toronto Zoology\\nLines: 14\\n\\nIn article &lt;1rpv9o$k00@wraith.cs.uow.edu.au&gt; u9152083@wraith.cs.uow.edu.au (Glen Justin Balmer) writes:\\n&gt;It said that in the 60's they developed a rocket that used ions or nuclear\\n&gt;particles for propolsion.\\n&gt;The government however, didn't give them $1billion for the developement...\\n\\nI'd guess this was a garbled report of the NERVA effort to develop a\\nsolid-core fission rocket (the most mundane type of nuclear rocket).\\nThat was the only advanced-propulsion project that was done on a large\\nenough scale to be likely to attract news attention.  It *could* be any\\nnumber of things -- the description given is awfully vague -- but I'd\\nput a small bet on NERVA.\\n-- \\nSVR4 resembles a high-speed collision   | Henry Spencer @ U of Toronto Zoology\\nbetween SVR3 and SunOS.    - Dick Dunn  |  henry@zoo.toronto.edu  utzoo!henry\\n</td>\n",
       "      <td>0</td>\n",
       "    </tr>\n",
       "    <tr>\n",
       "      <th>2</th>\n",
       "      <td>From: sdd@larc.nasa.gov (Steve Derry)\\nSubject: Re: HST Servicing Mission Scheduled for 11 Days\\nOrganization: NASA Langley Research Center, Hampton, VA  USA\\nLines: 30\\nReply-To: s.d.derry@larc.nasa.gov\\nNNTP-Posting-Host: jmsparc.larc.nasa.gov\\nX-Newsreader: TIN [version 1.1 PL8]\\n\\nPat (prb@access.digex.net) wrote:\\n: THe limit on space-walking is a function of suit supplies (MASS)\\n: and Orbiter Duration.   \\n\\n: In order to perform the re-boost of the HST, the OMS engines\\n: will be fired for a long period.  Now the shuttle is a heavy\\n: thing.  THe HST isn't light either.  THe amount of OMS fuel\\n: needed to fly both up is substantial.   a small booster\\n: carried up and used to boost HST on it's own will weigh significantly\\n: less then the OMS fuel required to Boost  both HST and SHUttle,\\n: for a given orbital change.  \\n\\n: From what i understand,  the mass margins on the HST missions are\\n: tight enough they can't even carry extra Suits or MMU's.\\n\\n: pat\\n\\nI haven't seen any specifics on the HST repair mission, but I can't see why\\nthe mass margins are tight.  What are they carrying up?  Replacement components\\n(WFPC II, COSTAR, gyros, solar panels, and probably a few others), all sorts of\\ntools, EVA equipment, and as much OMS fuel and consumables as they can.  This\\nshould be lighter than the original HST deployment mission, which achieved the\\nhighest altitude for a shuttle mission to date.  And HST is now in a lower \\norbit.  \\n\\nSeems like the limiting factors would be crew fatigue and mission complexity.\\n\\n--\\nSteve Derry\\n&lt;s.d.derry@larc.nasa.gov&gt;\\n</td>\n",
       "      <td>0</td>\n",
       "    </tr>\n",
       "    <tr>\n",
       "      <th>3</th>\n",
       "      <td>From: jbh55289@uxa.cso.uiuc.edu (Josh Hopkins)\\nSubject: Re: Vandalizing the sky.\\nOrganization: University of Illinois at Urbana\\nLines: 40\\n\\nrbunge@access.digex.net (Robert Bunge) writes:\\n\\n&gt;In article &lt;C69AGI.MJu@news.cso.uiuc.edu&gt; jbh55289@uxa.cso.uiuc.edu (Josh Hopkins) writes:\\n&gt;&gt;I'm wondering if \"vandalize\" is the proper word to use in this situation.  My\\n&gt;&gt;dictionary defines \"vandalism\" as \"the willful or malicious destructuion of \\n&gt;&gt;public or private property, especially of anything beautiful or artisitc.\" I\\n&gt;&gt;would agree the sky is beautiful, but not that it is public or private property.\\n\\n&gt;It's public because it belongs to everybody. \\n\\nNo, the sky does not, at this time, belong to anyone.  Ownership is necessary\\nto the definition because someone has to have the authority to decide if the\\naction was good or bad.  If neither you or I own a brick wall, then I can't\\nunilaterally declare that spraypainting my name on it is right, and you don't\\nhave the authority to declare that it is wrong.  The owner may find it artistic\\nor she may be call the police.\\n\\n(this applies to the argument on bright satellites more than street lights)\\n\\nIt's vandalism because many people -- power companies -- do maliciously waste light. \\n\\n\"maliciously\" implies evil intent.  The lighting companies aren't going out\\nof their way to spoil the sky.  They just don't care.\\n\\n&gt;If they can sell you\\n&gt;or your city or your state an unshielded light that wastes 30 to 50 percent\\n&gt;of its light, they make more _money_.  Never mind that your money is wasted.\\n\\nIt is the responsibility of the customer to choose the most efficient hardware.\\nIf that's what your city will buy, that's what the lighting company will sell.\\nWrite a letter to city hall.\\n\\nPlease note that I'm not defending light pollution.  The orignial focus of \\nthis thread was space based light sources.\\n\\n\\n-- \\nJosh Hopkins                                          jbh55289@uxa.cso.uiuc.edu\\n\\t\\t    \"Find a way or make one.\"\\n\\t             -attributed to Hannibal\\n</td>\n",
       "      <td>0</td>\n",
       "    </tr>\n",
       "    <tr>\n",
       "      <th>4</th>\n",
       "      <td>From: prb@access.digex.net (Pat)\\nSubject: Re: HST Servicing Mission Scheduled for 11 Days\\nOrganization: Express Access Online Communications USA\\nLines: 95\\nDistribution: na\\nNNTP-Posting-Host: access.digex.net\\n\\nIn article &lt;1993Apr30.145450.1@stsci.edu&gt; hathaway@stsci.edu writes:\\n&gt;.. \\n&gt;&gt; \\n&gt;&gt; After all the space walking,  they are going to  re-boost the HST's\\n&gt;&gt; orbit.  I think right now  it's sitting  at 180 miles up,\\n&gt;&gt; they would like  220.  I don't know the exact orbit numbers.\\n\\t\\t\\t\\t\\t^^^^^^^^^^^^^^^^^^^^^^\\n&gt;\\n&gt;As Ben says - this re-boost idea is all news to us here.  Do you know \\n&gt;something we don't?  Please supply a source - it would be nice for \\n&gt;the schedulers of observations to know where the thing is going to \\n&gt;be.  These altitude numbers are also way off.  \\n&gt;\\n&gt;My best source has: \\n&gt;\"Minimum ST ALTITUDE in the PMDB is:    573 Kilometers\"\\n&gt;\"Maximum ST ALTITUDE in the PMDB is:    603 Kilometers\"\\n&gt;\"Delta   ST ALTITUDE in the PMDB is:      3 Kilometers\" \\n&gt;\\n&gt;(PMDB is Proposal Management Data Base - used to schedule observations.) \\n&gt;..\\n&gt;\\n\\nI am sure your numbers are far better then mine.  As i said above,\\ni don't have exact numbers.\\n\\n&gt;&gt; In order to perform the re-boost of the HST, the OMS engines\\n&gt;&gt; will be fired for a long period.  Now the shuttle is a heavy\\n&gt;&gt; thing.  THe HST isn't light either.  THe amount of OMS fuel\\n&gt;&gt; needed to fly both up is substantial.   a small booster\\n&gt;&gt; carried up and used to boost HST on it's own will weigh significantly\\n&gt;&gt; less then the OMS fuel required to Boost  both HST and SHUttle,\\n&gt;&gt; for a given orbital change.  \\n&gt;&gt; \\n&gt;\\n&gt;Could you supply some calculations?  You might check some recent \\n&gt;postings that explained that 'a small booster' as suggested does \\n&gt;not now exist, so comparing the mass of something that doesn't \\n&gt;exist to the mass of the OMS fuel seems impossible.  The contamination \\n&gt;threat also remains.  \\n&gt;\\n\\nHow different would the contamination threat of a small manuevering tug\\nbe from that of the Shuttle and it's OMS engines??????\\n\\nI know that no small manuevering tug exists,  but maybe  one could\\nsoup up a Bus 1.   Does anyone out there have the de-clasified\\nspecs on hte BUS 1?  would it be able to provide enough  control\\nforce to balance the HST,  and  still have the rocket thrust\\nto hurl her into a decent high orbit?\\n\\n&gt;.. \\n&gt;&gt; \\n&gt;&gt; or the HST could even get placed into  some sort of medium orbit.\\n&gt;&gt; The reason they want a high orbit, is less antenna pointing,\\n&gt;&gt; and longer drag life.\\n&gt;&gt; \\n&gt;  Longer drag life I can understand, but could you explain the \\n&gt;antenna pointing?  \\n\\nSorry,  that should be intrument pointing.\\n\\n&gt;\\n&gt;&gt; Whatever it is,  the problem in the tilt array is a big constraint\\n&gt;&gt; on HST ops.\\n&gt;\\n&gt;Tell me about it.  Although the arrays can be (and are) moved perfectly \\n&gt;well utilizing the second electronics box.  Getting them both working \\n&gt;is much desireable so as to reclaim redundancy.  \\n\\nPlus, if the second box gets fritzy, you could be in shitter ville\\nreal fast.\\n\\n&gt;\\n&gt;I don't mean to jump on you - helpful suggestions are always welcome \\n&gt;and we all know the more ideas the better, but I do want the true \\n&gt;situation to be described clearly and correctly, lest some get \\n&gt;confused. \\n&gt;\\n&gt;Regards, \\n&gt;Wm. Hathaway \\n\\nThe problem is no-one seems to have the exact numbers.  When the mission\\nwas planned originally at 3 spacewalks,  and 3 astronauts,  there was\\nenormous concern over the mass margins for the flight.  THey\\nhave now planned for 5 EVA's,  an 11 day mission and have 2 reserve\\nEVA's and an emergency EVA.  Obviously that is coming from somewhere.\\nMy guess is the OMS burn  fuel,  or  re-boost  margin.   \\n\\nI just figured, if GOldin wants to really,  prove out faster, cheaper\\nbetter,   have some of the whiz kids  slap together an expendable\\nspace manuevering tug  out of a BUs1,  and use that for the re-boost.\\nit has to be better then using the Discovery as a tow truck.\\n\\npat\\n\\n</td>\n",
       "      <td>0</td>\n",
       "    </tr>\n",
       "    <tr>\n",
       "      <th>...</th>\n",
       "      <td>...</td>\n",
       "      <td>...</td>\n",
       "    </tr>\n",
       "    <tr>\n",
       "      <th>1972</th>\n",
       "      <td>From: mep@phoenix.oulu.fi (Marko Poutiainen)\\nSubject: Re: Finland/Sweden vs.NHL teams (WAS:Helsinki/Stockholm &amp;amp; NHL expansion)\\nOrganization: University of Oulu, Finland\\nX-Newsreader: TIN [version 1.1 PL6]\\nLines: 40\\n\\n: FINLAND:  \\n: \\n: D-Jyrki Lumme.......20\\n: D-Teppo Numminen....20\\n: D-Peter Ahola.......13\\n: \\nWell well, they don't like our defenders (mainly Lumme and Numminen)...\\n\\n: C-Jari Kurri........25\\n: C-Christian Ruuttu..16\\n: \\nNow, do YOU think that Ruuttu is only worth 16 ? I think it might be 20.\\n\\n: R-Teemu Selanne.....27\\n: \\nCompared to Kurri, Selanne's points are too high, lets make it 25 or 26.\\n\\n\\n: well in the Canada Cup and World Championships largely due to the efforts of\\n: Markus Ketterer (the goalie), 3-4 or the players listed above and luck. There's\\n: presumably a lot of decent players in Finland that wouldn't be superstars at\\n: the highest level but still valuable role players, however. My guess would be\\n: that the Finnish Canada Cup team would be a .500 team in the NHL.\\n\\nWow, now, it looks like you don't like our players? What about guys like:\\nNieminen, Jutila, Riihijarvi, Varvio, Laukkanen, Makela, Keskinen and (even\\nif he is aging) Ruotsalainen? The main difference between finnish and North-\\nAmerican players is, that our players tend to be better in the larger rink.\\nThe Canadian defenders are usually slower that defenders in Europe. \\nAnd I think that there was more in our success than Ketterer and luck (though\\nthey helped). I think that the main reason was, that the team worked well\\ntogether.\\n--\\n***********************************************************************\\n* 'Howl howl gargle howl gargle howl howl howl gargle howl gargle howl* \\n*  howl gargle gargle howl gargle gargle gargle howl slurrp uuuurgh'  *\\n*                                       -Prostetnic Vogon Jeltz       *\\n***********************************************************************\\n\\t-Marko Poutiainen\\n\\t mep@phoenix.oulu.fi\\n</td>\n",
       "      <td>1</td>\n",
       "    </tr>\n",
       "    <tr>\n",
       "      <th>1973</th>\n",
       "      <td>From: farenebt@logic.camp.clarkson.edu (Droopy)\\nSubject: AHL final standings\\nOrganization: Clarkson University\\nLines: 35\\nNntp-Posting-Host: logic.clarkson.edu\\nX-Newsreader: TIN [version 1.1 PL8]\\n\\nFINAL 1992-93 AMERICAN HOCKEY LEAGUE STANDINGS\\n\\nNORTHERN DIVISION\\tW\\tL\\tT\\tPTS\\tGF\\tGA\\tLYF*\\nProvidence Bruins\\t46\\t32\\t2\\t94\\t384\\t348\\t56\\nAdirondack Red Wings\\t36\\t35\\t9\\t81\\t331\\t308\\t84\\nCapital District Isles\\t34\\t34\\t12\\t80\\t280\\t285\\t75\\nSpringfield Indians\\t25\\t41\\t14\\t64\\t282\\t336\\t94\\nNew Haven Senators\\t22\\t47\\t11\\t55\\t262\\t343\\t--\\n\\nSOUTHERN DIVISION\\tW\\tL\\tT\\tPTS\\tGF\\tGA\\tLYF\\nBinghamton Rangers\\t57\\t13\\t10\\t124#\\t392\\t246\\t91\\nRochester Americans\\t40\\t33\\t7\\t87\\t348\\t332\\t86\\nUtica Devils\\t\\t33\\t36\\t11\\t77\\t325\\t354\\t74\\nBaltimore Skipjacks\\t28\\t40\\t12\\t68\\t318\\t353\\t66\\nHershey Bears\\t\\t27\\t41\\t12\\t66\\t316\\t339\\t83\\nHamilton Canucks\\t29\\t45\\t6\\t64\\t284\\t327\\t--\\n\\nATLANTIC DIVISION\\tW\\tL\\tT\\tPTS\\tGF\\tGA\\tLYF\\nSt John's Maple Leafs\\t41\\t26\\t13\\t95\\t351\\t308\\t90\\nFredericton Canadiens\\t38\\t31\\t11\\t87\\t314\\t278\\t96\\nCape Breton Oilers\\t36\\t32\\t12\\t84\\t356\\t336\\t82\\nMoncton Hawks\\t\\t31\\t33\\t16\\t78\\t292\\t306\\t74\\nHalifax Citadels\\t33\\t37\\t10\\t76\\t312\\t348\\t67\\n\\n*- Last year's point total\\n#- League record total\\t\\t\\t\\n\\n    ++++++++++++++++++++++++++++++++++++++++++++++++++++++++++++++++++++++++\\n    + Bri Farenell\\t\\t\\tfarenebt@craft.camp.clarkson.edu   +\\n    + AHL, ECAC and Boston Bruins contact for rec.sport.hockey\\t\\t   +\\n    + Adirondack Red Wings, Calder Cup Champs: '81  '86  '89  '92\\t   +\\n    + Clarkson Hockey, ECAC Tournament Champs: '66  '91  '93\\t\\t   +\\n    + Glens Falls High Hockey, NY Division II State Champs: '90  '91       +\\n    + AHL fans: join the AHL mailing list: ahl-news-request@andrew.cmu.edu +\\n    ++++++++++++++++++++++++++++++++++++++++++++++++++++++++++++++++++++++++\\n</td>\n",
       "      <td>1</td>\n",
       "    </tr>\n",
       "    <tr>\n",
       "      <th>1974</th>\n",
       "      <td>From: daniell@cory.Berkeley.EDU (Daniel Lyddy)\\nSubject: Re: Bruins vs Canadiens:\\nNntp-Posting-Host: cory.berkeley.edu\\nOrganization: University of California, at Berkeley\\nLines: 73\\n\\nIn article &lt;1993Apr16.213513.7683@rose.com&gt; jack.petrilli@rose.com (jack petrilli) writes:\\n&gt;So I don't know what you mean by parity; Boston never was, is not now, \\n&gt;and never will be as good an organization as the Montreal Canadiens.\\n&gt;\\n\\nNever was?  Probably.  Is not now?  Debatable.  What other valid test can\\nyou think of besides the final standings or divisional playoff winner?  What\\ndo you propose, a worthless vote like they do in college football?  What a\\njoke!\\n\\n&gt;You Boston fans make me laugh: you're going crazy based on a very \\n&gt;recent Boston domination over Montreal in the playoffs. I mean how \\n&gt;many cups has Boston won compared to Montreal's 23? And who do you \\n&gt;think is going to win the **next** cup between the 2 teams? Montreal \\n&gt;or Boston? You know Sinden's going to find some way of screwing up \\n&gt;even this good Boston team. He'll fire Suter or trade away a vital \\n&gt;star. (Admittedly, his last few trades have been good ones but how \\n&gt;long before his luck runs out and he starts making Esposito-for-\\n&gt;Ratelle type trades again?) \\n&gt;\\n\\nIf I remember right, Brad Park was also involved in that trade.  He wasn't\\nall that bad a hockey player.\\n\\nBut let's look at some of Sinden's trades over the years:\\n\\n??? for Rick Middleton (Rangers).  I don't know who Sinden gave up for Middle-\\nton, so I'll call this one a +.\\n\\nBarry Pederson for Cam Neely (Canucks).  +++.  Any questions?\\n\\nGreg Hawgood for Vladimir Ruzicka (Oilers). ++.  Didja see that one Rosie\\nroofed against Roy in last year's playoffs?\\n\\nCourtnall/Ranford for Andy Moog (Oilers).  A wash.  Moog is a good goaltender,\\nRanford burned Boston in the Finals in his first year, and Courtnall always\\nseems to get his points.  Anyone in Vancouver care to comment on Courtnall\\nas a defensive liability?\\n\\nKen Linseman for Dave Poulin (Flyers) ++.  Any more questions?\\n\\nJanney/Quintal for Adam Oates (Blues).  ++.  Janney is an enormous talent and\\na personable guy, the the Bruins play in Adam's Division.  Enough said?\\n\\nSo,even if you count the Esposito/Vadnais/Ratelle/Park/I don't remember who \\nelse (Joe Zanussi?) trade as a double minus, Harry the Horse trader comes\\nout on top.  I submit that the Bruins are always good because of Harry, not\\nin spite of him.\\n\\nBTW, do you really think the Habs will bounce back next season.  I'll bet \\nthey finish fourth or fifth in the Conference, behind any of the following:\\nPittsburgh, Quebec, Boston, Washington, Islanders.  Someone correct me if\\nthese five teams will not be in Montreal's conference.\\n\\nIn summary, things look bleak for the Habs, at least in the near future.  I\\nsuspect that the next team from La Belle Province to win the Cup will be\\nthat team that Lindros didn't want to play for.\\n\\n&gt;I admit that I've been suffering lately with the Boston gets hot while \\n&gt;Montreal swans in the playoffs type years. But I **do** have the sure \\n&gt;knowledge that the Montreal braintrust will keep plugging away until \\n&gt;they hit the right formula for yet another cup. Whereas if I were a \\n&gt;Boston fan, I'd have this kind of despair that as long as Harry Sinden \\n&gt;is running the show, the Bruins will always be good but **never** \\n&gt;good enough.\\n&gt;\\n&gt;- Jack\\n\\n-- \\nDan Lyddy    daniell@cory.berkeley.edu    University of California at Berkeley\\n\\nMy Two Favorite Hockey Teams:  1) The Boston Bruins\\n                               2) Whoever's playing Pittsburgh\\n</td>\n",
       "      <td>1</td>\n",
       "    </tr>\n",
       "    <tr>\n",
       "      <th>1975</th>\n",
       "      <td>From: \"Terence M. Rokop\" &lt;tr2i+@andrew.cmu.edu&gt;\\nSubject: Re: NCAA finals...Winner????\\nOrganization: Freshman, Physics, Carnegie Mellon, Pittsburgh, PA\\nLines: 9\\nNNTP-Posting-Host: andrew.cmu.edu\\nIn-Reply-To: &lt;1993Apr4.165655.16932@miavx1.acs.muohio.edu&gt;\\n\\nktgeiss@miavx1.acs.muohi writes:\\n\\n&gt;Lake State/Maine in finals...WHO WON?   Please post.\\n\\nMaine 5, LSSU 4.\\n\\n\\n\\n                                                Terry\\n</td>\n",
       "      <td>1</td>\n",
       "    </tr>\n",
       "    <tr>\n",
       "      <th>1976</th>\n",
       "      <td>From: MLINDROOS@FINABO.ABO.FI (Marcus Lindroos INF)\\nSubject: Finland/Sweden vs.NHL teams (WAS:Helsinki/Stockholm &amp;amp; NHL expansion)\\nIn-Reply-To: tervio@katk.Helsinki.FI's message of Thu, 15 Apr 1993 09:39:37 GMT\\nOrganization: Abo Akademi University, Finland\\nX-News-Reader: VMS NEWS 1.24\\nLines: 120\\n\\nIn &lt;tervio.40@katk.Helsinki.FI&gt; tervio@katk.Helsinki.FI writes:\\n\\n&gt;    Now what if the two teams were merged (this has been proposed in Tampere \\n&gt; with Ilves ( =Lynx) and Tappara ( =Axe).  The fans wouldn't take it !\\n&gt; They rather see their teams out of the playoffs most of the time or even \\n&gt; relegated than merged.  It's not that difficult to understand, it's just \\n&gt; like here in Helsinki.  You *grow up* being either a Jokerit- or HIFK -fan.\\n&gt; The other team is the last team in the world you would support.  I'm not \\n&gt; talking about 'hate' but about extremely deeply rooted rivalry.\\n\\n\"Deeply rooted rivalry?\" Ahem, Jokerit have been around since 1967 and joined\\nthe top flight only in the early '70s. Helsingfors IFK have been around since\\n1897 but fans only started taking hockey seriously in the 1960s so I think\\nyou're exagerating here.\\n\\n&gt;    However, it's been proved that both fan groups can cheer the same team\\n&gt; - that's \"the Finnish national team\".  Maybe that's how you could set up a \\n&gt; huge franchise in Finland.  No one has ever said that the team must be \\n&gt; called after one city or play all its games on one arena.  Just one Team \\n&gt; Finland and Team Sweden in the NHL just wouldn't make any sense - we have \\n&gt; way more talent than 1/24th of the total of North American talent.  After a \\n&gt; couple of seasons you would never see the cup going anywhere outside the \\n&gt; Nordic  (presuming that our teams would have the advantage in  drafting \\n&gt; local talent, as prooposed).\\n\\nThat's a rather bold claim, in the light of how successful the Canadian &amp;amp;\\nAmerican Olympic teams have been . . . and they've had to play according to our\\nset of rules and on international ice. The 1992 Olympic teams contained about\\nas much talent as your average expansion team. Canada had Eric Lindros, Sean\\nBurke, Joe Juneau and Chris Kontos. Another four or five have been deep subs in\\nthe NHL. As for the Yanks, Keith Tkachuk, Scott Lachance, Bret Hedican, Shawn \\nMcEachern, Steve Heintze, Ted Donato, Joe Sacco and Bill Guerin have been \\n3rd/4th line players in the NHL, while Robb Stauber has done well for the \\nKings in goal. Nothing more. In fact, I'm sure that an All-Star team assembled\\nfrom the best Finnish League teams would do no better in the NHL than Hartford \\nor Tampa Bay currently are doing.\\n---\\nBut what happens if _all_ top-class Finnish &amp;amp; Swedish players gradually end up\\nwith Helsinki &amp;amp; Stockholm as the North American-based ones gradually retire and\\nno Canadian/American team is allowed to draft new players from Scandinavia? \\nHere is what THE HOCKEY NEWS scouts think of our NHL-based players:\\n\\n(28-30=superstar)\\n(23-27=star)\\n(18-22=NHL regular+)\\n(13-17=NHL regular)\\n( 8-12=role player)\\n\\nFINLAND:  \\n\\nD-Jyrki Lumme.......20\\nD-Teppo Numminen....20\\nD-Peter Ahola.......13\\n\\nC-Jari Kurri........25\\nC-Christian Ruuttu..16\\n\\nR-Teemu Selanne.....27\\n\\nL-Esa Tikkanen......20\\n(Obviously, Selanne's ratings would be higher today than they were in January)\\n\\nSWEDEN:\\nD-Ulf Samuelsson....21\\nD-Fredrik Olausson..20\\nD-Niklas Lidstrom...18\\nD-Calle Johansson...18\\nD-Kjell Samuelsson..17\\nD-Tommy Sjodin......13\\nD-Tommy Albelin......7\\n\\nC-Mats Sundin.......26\\nC-Thomas Steen......18\\n\\nR-Thomas Sandstrom..22\\nR-Ulf Dahlen........18\\nR-Michael Nylander..13\\n\\nL-Per-Erik Eklund...18\\nL-Johan Garpenlov...16\\nL-Mikael Andersson..15\\nL-Jan Erixon........14\\n\\nThis would be interesting. Clearly, Finland's top five players (Winnipeg's\\nSelanne &amp;amp; Numminen, Vancouver's Lumme, Los Angeles' Jari Kurri and New York's\\nTikkanen) are right up there with any five-man unit Pittsburgh &amp;amp; co. have. But\\nI have my doubts about the home-based Finnish players - the national team did\\nwell in the Canada Cup and World Championships largely due to the efforts of\\nMarkus Ketterer (the goalie), 3-4 or the players listed above and luck. There's\\npresumably a lot of decent players in Finland that wouldn't be superstars at\\nthe highest level but still valuable role players, however. My guess would be\\nthat the Finnish Canada Cup team would be a .500 team in the NHL.\\n---\\nSweden is easier to judge because they have more players in North America.\\nTheir points total (16 players) is 274 - seven more than Ottawa's 22 top\\nplayers combined! If we estimate there are six more NHL regulars back home in \\nSweden, an all-Swedish team would assemble about 350-360 skill points.\\nDeducting some points from Pittsburgh, NY Rangers and other teams that rely on\\nSwedish players, the Swedish team would finish in sixth place - about as high\\nas Boston, Vancouver, Calgary and Montreal on paper! So, the \"dynasty\" talk\\nisn't completely unfounded here. An all-Finnish/all-Swedish team might have an\\nadvantage because the players would be playing at home half of the time,\\nwon't have to adapt to a foreign country and a foreign language, and presumably\\nplay the wide-open European variant of hockey rather than have to learn the\\nNorth American checking game. However, if free agency becomes a factor the top \\nScandinavian players still might end up playing for large-market teams after a \\ncouple of years the same way Edmonton's \"dynasty\" crumbled in the late '80s. \\nSome fringe players likely will be drafted by other NHL teams as having an \\nexclusive talent pool might be a bit unfair after all. I'd settle for a \\ncompromise, prohibit all European teams from signing a North American during \\nthe first two rounds but allow them to keep their top two players. After this, \\nthe amateur draft should be open to anyone. \\n\\n&gt; -----------------------------------------------------------------------------\\n&gt;  J O O   J O O   J O K E R I T  !  !  !    Finland over Czech in the Final\\n&gt;    B R U I N P O W E R ! ! !               Bruins over Blackhawks in 6 \\n&gt; -----------------------------------------------------------------------------\\n\\nMARCU$\\n     \\n</td>\n",
       "      <td>1</td>\n",
       "    </tr>\n",
       "  </tbody>\n",
       "</table>\n",
       "<p>1977 rows × 2 columns</p>\n",
       "</div>"
      ],
      "text/plain": [
       "                                                                                                                                                                                                                                                                                                                                                                                                                                                                                                                                                                                                                                                                                                                                                                                                                                                                                                                                                                                                                                                                                                                                                                                                                                                                                                                                                                                                                                                                                                                                                                                                                                                                                                                                                                                                                                                                                                                                                                                                                                                                                                                                                                                                                                                                                                                                                                                                                                                                                                                                                                                                                                                                                                                                                                                                                                                                                                                                                                                                                                                                                                                                                                                                                                                                                                                                                                                                                                                                                                                                                                                                                                                                                                                                                                                                                                                                                                                                                                                                                                                                                                                                                                                                                                                                                                                                                                                                                                                                                                                                                                                                                                                                                                                                                                                                                                                                                                                                                                                                                                                                                                                                                                                                                                                                                                                                                                                                                                                                                                                                                                                                                                                                                                                                                                                                                                                                                                                                                                                                                                                                                                                                                                                                                                                                                                                                                                                                                                                                                           text  \\\n",
       "0                                                                                                                                                                                                                                                                                                                                                                                                                                                                                                                                                                                                                                                                                                                                                                                                                                                                                                                                                                                                                                                                                                                                                                                                                                                                                                                                                                                                                                                                                                                                                                                                                                                                                                                                                                                                                                                                                                                                                                                                                                                                                                                                                                                                                                                                                                                                                                                                                                                                                                                                                                                                                                                                                                                                                                                                                                                                                                                                                                                                                                                                                                                                                                                                                                                                                                                                                                                                                                                                                                                                                                                                                                                                                                                                                                                                                                                                                                                                                                                                                                                                                                                                                                                                                                                                                                                                                                                                                                                                                                                                                                                                                                                                                                                                                            From: palmer@cco.caltech.edu (David M. Palmer)\\nSubject: Re: HST Servicing Mission Scheduled for 11 Days\\nOrganization: California Institute of Technology, Pasadena\\nLines: 30\\nNNTP-Posting-Host: alumni.caltech.edu\\n\\nprb@access.digex.net (Pat) writes:\\n\\n>In article <C6A2At.E9z@zoo.toronto.edu> henry@zoo.toronto.edu (Henry Spencer) writes:\\n>>\\n>>No, the thing is designed to be retrievable, in a pinch.  Indeed, this\\n>>dictated a rather odd design for the solar arrays, since they had to be\\n>>retractable as well as extendable, and may thus have indirectly contributed\\n>>to the array-flapping problems.\\n\\n\\n>Why not design the solar arrays to be detachable.  if the shuttle is going\\n>to retunr the HST,  what bother are some arrays.  just fit them with a quick\\n> release.  one  space walk,  or use the second canadarm to remove the arrays.\\n\\nYou may want to put Hubble back in the payload bay for a reboost,\\nand you don't want to clip off the panels each time.\\n\\nFor the Gamma-Ray Observatory, one of the design requirements was that\\nthere be no stored-energy mecahnisms (springs, explosive squibs, gas shocks,\\netc.) used for deployment.  This was partially so that everything could\\nbe reeled back in to put it back in the payload bay, and partially for\\nsafety considerations.  (I've heard that the wings on a cruise missile\\nwould cut you in half if you were standing in their swath when they opened.)\\n\\nBack when the shuttle would be going up every other day with a cost to\\norbit of $3.95 per pound :-), everybody designed things for easy servicing.\\n\\n-- \\n\\t\\tDavid M. Palmer\\t\\tpalmer@alumni.caltech.edu\\n\\t\\t\\t\\t\\tpalmer@tgrs.gsfc.nasa.gov\\n   \n",
       "1                                                                                                                                                                                                                                                                                                                                                                                                                                                                                                                                                                                                                                                                                                                                                                                                                                                                                                                                                                                                                                                                                                                                                                                                                                                                                                                                                                                                                                                                                                                                                                                                                                                                                                                                                                                                                                                                                                                                                                                                                                                                                                                                                                                                                                                                                                                                                                                                                                                                                                                                                                                                                                                                                                                                                                                                                                                                                                                                                                                                                                                                                                                                                                                                                                                                                                                                                                                                                                                                                                                                                                                                                                                                                                                                                                                                                                                                                                                                                                                                                                                                                                                                                                                                                                                                                                                                                                                                                                                                                                                                                                                                                                                                                                                                                                                                                                                                                                                                                                                                                                                                                                                                                                                                                                                                                                                                                                                                                                                                                                 From: henry@zoo.toronto.edu (Henry Spencer)\\nSubject: Re: Rocket Types\\nOrganization: U of Toronto Zoology\\nLines: 14\\n\\nIn article <1rpv9o$k00@wraith.cs.uow.edu.au> u9152083@wraith.cs.uow.edu.au (Glen Justin Balmer) writes:\\n>It said that in the 60's they developed a rocket that used ions or nuclear\\n>particles for propolsion.\\n>The government however, didn't give them $1billion for the developement...\\n\\nI'd guess this was a garbled report of the NERVA effort to develop a\\nsolid-core fission rocket (the most mundane type of nuclear rocket).\\nThat was the only advanced-propulsion project that was done on a large\\nenough scale to be likely to attract news attention.  It *could* be any\\nnumber of things -- the description given is awfully vague -- but I'd\\nput a small bet on NERVA.\\n-- \\nSVR4 resembles a high-speed collision   | Henry Spencer @ U of Toronto Zoology\\nbetween SVR3 and SunOS.    - Dick Dunn  |  henry@zoo.toronto.edu  utzoo!henry\\n   \n",
       "2                                                                                                                                                                                                                                                                                                                                                                                                                                                                                                                                                                                                                                                                                                                                                                                                                                                                                                                                                                                                                                                                                                                                                                                                                                                                                                                                                                                                                                                                                                                                                                                                                                                                                                                                                                                                                                                                                                                                                                                                                                                                                                                                                                                                                                                                                                                                                                                                                                                                                                                                                                                                                                                                                                                                                                                                                                                                                                                                                                                                                                                                                                                                                                                                                                                                                                                                                                                                                                                                                                                                                                                                                                                                                                                                                                                                                                                                                                                                                                                                                                                                                                                                                                                                                                                                                                                                                                                                                                                                                                                                                                                                                                                                                                                                                                                                                                  From: sdd@larc.nasa.gov (Steve Derry)\\nSubject: Re: HST Servicing Mission Scheduled for 11 Days\\nOrganization: NASA Langley Research Center, Hampton, VA  USA\\nLines: 30\\nReply-To: s.d.derry@larc.nasa.gov\\nNNTP-Posting-Host: jmsparc.larc.nasa.gov\\nX-Newsreader: TIN [version 1.1 PL8]\\n\\nPat (prb@access.digex.net) wrote:\\n: THe limit on space-walking is a function of suit supplies (MASS)\\n: and Orbiter Duration.   \\n\\n: In order to perform the re-boost of the HST, the OMS engines\\n: will be fired for a long period.  Now the shuttle is a heavy\\n: thing.  THe HST isn't light either.  THe amount of OMS fuel\\n: needed to fly both up is substantial.   a small booster\\n: carried up and used to boost HST on it's own will weigh significantly\\n: less then the OMS fuel required to Boost  both HST and SHUttle,\\n: for a given orbital change.  \\n\\n: From what i understand,  the mass margins on the HST missions are\\n: tight enough they can't even carry extra Suits or MMU's.\\n\\n: pat\\n\\nI haven't seen any specifics on the HST repair mission, but I can't see why\\nthe mass margins are tight.  What are they carrying up?  Replacement components\\n(WFPC II, COSTAR, gyros, solar panels, and probably a few others), all sorts of\\ntools, EVA equipment, and as much OMS fuel and consumables as they can.  This\\nshould be lighter than the original HST deployment mission, which achieved the\\nhighest altitude for a shuttle mission to date.  And HST is now in a lower \\norbit.  \\n\\nSeems like the limiting factors would be crew fatigue and mission complexity.\\n\\n--\\nSteve Derry\\n<s.d.derry@larc.nasa.gov>\\n   \n",
       "3                                                                                                                                                                                                                                                                                                                                                                                                                                                                                                                                                                                                                                                                                                                                                                                                                                                                                                                                                                                                                                                                                                                                                                                                                                                                                                                                                                                                                                                                                                                                                                                                                                                                                                                                                                                                                                                                                                                                                                                                                                                                                                                                                                                                                                                                                                                                                                                                                                                                                                                                                                                                                                                                                                                                                                                                                                                                                                                                                                                                                                                                                                                                                                                                                                                                                                                                                                                                                                                                                                                                                                                                                                                                                                                                                                                                                                                                                                                                                                                                                                                                                                                                                                                                                                                                                                                                                       From: jbh55289@uxa.cso.uiuc.edu (Josh Hopkins)\\nSubject: Re: Vandalizing the sky.\\nOrganization: University of Illinois at Urbana\\nLines: 40\\n\\nrbunge@access.digex.net (Robert Bunge) writes:\\n\\n>In article <C69AGI.MJu@news.cso.uiuc.edu> jbh55289@uxa.cso.uiuc.edu (Josh Hopkins) writes:\\n>>I'm wondering if \"vandalize\" is the proper word to use in this situation.  My\\n>>dictionary defines \"vandalism\" as \"the willful or malicious destructuion of \\n>>public or private property, especially of anything beautiful or artisitc.\" I\\n>>would agree the sky is beautiful, but not that it is public or private property.\\n\\n>It's public because it belongs to everybody. \\n\\nNo, the sky does not, at this time, belong to anyone.  Ownership is necessary\\nto the definition because someone has to have the authority to decide if the\\naction was good or bad.  If neither you or I own a brick wall, then I can't\\nunilaterally declare that spraypainting my name on it is right, and you don't\\nhave the authority to declare that it is wrong.  The owner may find it artistic\\nor she may be call the police.\\n\\n(this applies to the argument on bright satellites more than street lights)\\n\\nIt's vandalism because many people -- power companies -- do maliciously waste light. \\n\\n\"maliciously\" implies evil intent.  The lighting companies aren't going out\\nof their way to spoil the sky.  They just don't care.\\n\\n>If they can sell you\\n>or your city or your state an unshielded light that wastes 30 to 50 percent\\n>of its light, they make more _money_.  Never mind that your money is wasted.\\n\\nIt is the responsibility of the customer to choose the most efficient hardware.\\nIf that's what your city will buy, that's what the lighting company will sell.\\nWrite a letter to city hall.\\n\\nPlease note that I'm not defending light pollution.  The orignial focus of \\nthis thread was space based light sources.\\n\\n\\n-- \\nJosh Hopkins                                          jbh55289@uxa.cso.uiuc.edu\\n\\t\\t    \"Find a way or make one.\"\\n\\t             -attributed to Hannibal\\n   \n",
       "4                                                                                                                                                                                                                                                                                                                                                                                                                                                                                                                                                                                                                                                                                                                                                                                                                                                                                                                                                                                                                                                                                                                                                                                                                                                                                                                                                                                                                                                                                                                                                                                                                                                                                                                                                                                                                                                                                                                                                                                                                                                                                                                                                                                                                                                                                                                                   From: prb@access.digex.net (Pat)\\nSubject: Re: HST Servicing Mission Scheduled for 11 Days\\nOrganization: Express Access Online Communications USA\\nLines: 95\\nDistribution: na\\nNNTP-Posting-Host: access.digex.net\\n\\nIn article <1993Apr30.145450.1@stsci.edu> hathaway@stsci.edu writes:\\n>.. \\n>> \\n>> After all the space walking,  they are going to  re-boost the HST's\\n>> orbit.  I think right now  it's sitting  at 180 miles up,\\n>> they would like  220.  I don't know the exact orbit numbers.\\n\\t\\t\\t\\t\\t^^^^^^^^^^^^^^^^^^^^^^\\n>\\n>As Ben says - this re-boost idea is all news to us here.  Do you know \\n>something we don't?  Please supply a source - it would be nice for \\n>the schedulers of observations to know where the thing is going to \\n>be.  These altitude numbers are also way off.  \\n>\\n>My best source has: \\n>\"Minimum ST ALTITUDE in the PMDB is:    573 Kilometers\"\\n>\"Maximum ST ALTITUDE in the PMDB is:    603 Kilometers\"\\n>\"Delta   ST ALTITUDE in the PMDB is:      3 Kilometers\" \\n>\\n>(PMDB is Proposal Management Data Base - used to schedule observations.) \\n>..\\n>\\n\\nI am sure your numbers are far better then mine.  As i said above,\\ni don't have exact numbers.\\n\\n>> In order to perform the re-boost of the HST, the OMS engines\\n>> will be fired for a long period.  Now the shuttle is a heavy\\n>> thing.  THe HST isn't light either.  THe amount of OMS fuel\\n>> needed to fly both up is substantial.   a small booster\\n>> carried up and used to boost HST on it's own will weigh significantly\\n>> less then the OMS fuel required to Boost  both HST and SHUttle,\\n>> for a given orbital change.  \\n>> \\n>\\n>Could you supply some calculations?  You might check some recent \\n>postings that explained that 'a small booster' as suggested does \\n>not now exist, so comparing the mass of something that doesn't \\n>exist to the mass of the OMS fuel seems impossible.  The contamination \\n>threat also remains.  \\n>\\n\\nHow different would the contamination threat of a small manuevering tug\\nbe from that of the Shuttle and it's OMS engines??????\\n\\nI know that no small manuevering tug exists,  but maybe  one could\\nsoup up a Bus 1.   Does anyone out there have the de-clasified\\nspecs on hte BUS 1?  would it be able to provide enough  control\\nforce to balance the HST,  and  still have the rocket thrust\\nto hurl her into a decent high orbit?\\n\\n>.. \\n>> \\n>> or the HST could even get placed into  some sort of medium orbit.\\n>> The reason they want a high orbit, is less antenna pointing,\\n>> and longer drag life.\\n>> \\n>  Longer drag life I can understand, but could you explain the \\n>antenna pointing?  \\n\\nSorry,  that should be intrument pointing.\\n\\n>\\n>> Whatever it is,  the problem in the tilt array is a big constraint\\n>> on HST ops.\\n>\\n>Tell me about it.  Although the arrays can be (and are) moved perfectly \\n>well utilizing the second electronics box.  Getting them both working \\n>is much desireable so as to reclaim redundancy.  \\n\\nPlus, if the second box gets fritzy, you could be in shitter ville\\nreal fast.\\n\\n>\\n>I don't mean to jump on you - helpful suggestions are always welcome \\n>and we all know the more ideas the better, but I do want the true \\n>situation to be described clearly and correctly, lest some get \\n>confused. \\n>\\n>Regards, \\n>Wm. Hathaway \\n\\nThe problem is no-one seems to have the exact numbers.  When the mission\\nwas planned originally at 3 spacewalks,  and 3 astronauts,  there was\\nenormous concern over the mass margins for the flight.  THey\\nhave now planned for 5 EVA's,  an 11 day mission and have 2 reserve\\nEVA's and an emergency EVA.  Obviously that is coming from somewhere.\\nMy guess is the OMS burn  fuel,  or  re-boost  margin.   \\n\\nI just figured, if GOldin wants to really,  prove out faster, cheaper\\nbetter,   have some of the whiz kids  slap together an expendable\\nspace manuevering tug  out of a BUs1,  and use that for the re-boost.\\nit has to be better then using the Discovery as a tow truck.\\n\\npat\\n\\n   \n",
       "...                                                                                                                                                                                                                                                                                                                                                                                                                                                                                                                                                                                                                                                                                                                                                                                                                                                                                                                                                                                                                                                                                                                                                                                                                                                                                                                                                                                                                                                                                                                                                                                                                                                                                                                                                                                                                                                                                                                                                                                                                                                                                                                                                                                                                                                                                                                                                                                                                                                                                                                                                                                                                                                                                                                                                                                                                                                                                                                                                                                                                                                                                                                                                                                                                                                                                                                                                                                                                                                                                                                                                                                                                                                                                                                                                                                                                                                                                                                                                                                                                                                                                                                                                                                                                                                                                                                                                                                                                                                                                                                                                                                                                                                                                                                                                                                                                                                                                                                                                                                                                                                                                                                                                                                                                                                                                                                                                                                                                                                                                                                                                                                                                                                                                                                                                                                                                                                                                                                                                                                                                                                                                                                                                                                                                                                                                                                                                                                                                                                                                         ...   \n",
       "1972                                                                                                                                                                                                                                                                                                                                                                                                                                                                                                                                                                                                                                                                                                                                                                                                                                                                                                                                                                                                                                                                                                                                                                                                                                                                                                                                                                                                                                                                                                                                                                                                                                                                                                                                                                                                                                                                                                                                                                                                                                                                                                                                                                                                                                                                                                                                                                                                                                                                                                                                                                                                                                                                                                                                                                                                                                                                                                                                                                                                                                                                                                                                                                                                                                                                                                                                                                                                                                                                                                                                                                                                                                                                                                                                                                                                                                                                                                                                                                                                                                                                                                                                                                                                                                                                                                                                                                                                                  From: mep@phoenix.oulu.fi (Marko Poutiainen)\\nSubject: Re: Finland/Sweden vs.NHL teams (WAS:Helsinki/Stockholm &amp; NHL expansion)\\nOrganization: University of Oulu, Finland\\nX-Newsreader: TIN [version 1.1 PL6]\\nLines: 40\\n\\n: FINLAND:  \\n: \\n: D-Jyrki Lumme.......20\\n: D-Teppo Numminen....20\\n: D-Peter Ahola.......13\\n: \\nWell well, they don't like our defenders (mainly Lumme and Numminen)...\\n\\n: C-Jari Kurri........25\\n: C-Christian Ruuttu..16\\n: \\nNow, do YOU think that Ruuttu is only worth 16 ? I think it might be 20.\\n\\n: R-Teemu Selanne.....27\\n: \\nCompared to Kurri, Selanne's points are too high, lets make it 25 or 26.\\n\\n\\n: well in the Canada Cup and World Championships largely due to the efforts of\\n: Markus Ketterer (the goalie), 3-4 or the players listed above and luck. There's\\n: presumably a lot of decent players in Finland that wouldn't be superstars at\\n: the highest level but still valuable role players, however. My guess would be\\n: that the Finnish Canada Cup team would be a .500 team in the NHL.\\n\\nWow, now, it looks like you don't like our players? What about guys like:\\nNieminen, Jutila, Riihijarvi, Varvio, Laukkanen, Makela, Keskinen and (even\\nif he is aging) Ruotsalainen? The main difference between finnish and North-\\nAmerican players is, that our players tend to be better in the larger rink.\\nThe Canadian defenders are usually slower that defenders in Europe. \\nAnd I think that there was more in our success than Ketterer and luck (though\\nthey helped). I think that the main reason was, that the team worked well\\ntogether.\\n--\\n***********************************************************************\\n* 'Howl howl gargle howl gargle howl howl howl gargle howl gargle howl* \\n*  howl gargle gargle howl gargle gargle gargle howl slurrp uuuurgh'  *\\n*                                       -Prostetnic Vogon Jeltz       *\\n***********************************************************************\\n\\t-Marko Poutiainen\\n\\t mep@phoenix.oulu.fi\\n   \n",
       "1973                                                                                                                                                                                                                                                                                                                                                                                                                                                                                                                                                                                                                                                                                                                                                                                                                                                                                                                                                                                                                                                                                                                                                                                                                                                                                                                                                                                                                                                                                                                                                                                                                                                                                                                                                                                                                                                                                                                                                                                                                                                                                                                                                                                                                                                                                                                                                                                                                                                                                                                                                                                                                                                                                                                                                                                                                                                                                                                                                                                                                                                                                                                                                                                                                                                                                                                                                                                                                                                                                                                                                                                                                                                                                                                                                                                                                                                                                                                                                                                                                                                                                                                                                                                                                                                                                                                                                                                                                                                                                                                                                                      From: farenebt@logic.camp.clarkson.edu (Droopy)\\nSubject: AHL final standings\\nOrganization: Clarkson University\\nLines: 35\\nNntp-Posting-Host: logic.clarkson.edu\\nX-Newsreader: TIN [version 1.1 PL8]\\n\\nFINAL 1992-93 AMERICAN HOCKEY LEAGUE STANDINGS\\n\\nNORTHERN DIVISION\\tW\\tL\\tT\\tPTS\\tGF\\tGA\\tLYF*\\nProvidence Bruins\\t46\\t32\\t2\\t94\\t384\\t348\\t56\\nAdirondack Red Wings\\t36\\t35\\t9\\t81\\t331\\t308\\t84\\nCapital District Isles\\t34\\t34\\t12\\t80\\t280\\t285\\t75\\nSpringfield Indians\\t25\\t41\\t14\\t64\\t282\\t336\\t94\\nNew Haven Senators\\t22\\t47\\t11\\t55\\t262\\t343\\t--\\n\\nSOUTHERN DIVISION\\tW\\tL\\tT\\tPTS\\tGF\\tGA\\tLYF\\nBinghamton Rangers\\t57\\t13\\t10\\t124#\\t392\\t246\\t91\\nRochester Americans\\t40\\t33\\t7\\t87\\t348\\t332\\t86\\nUtica Devils\\t\\t33\\t36\\t11\\t77\\t325\\t354\\t74\\nBaltimore Skipjacks\\t28\\t40\\t12\\t68\\t318\\t353\\t66\\nHershey Bears\\t\\t27\\t41\\t12\\t66\\t316\\t339\\t83\\nHamilton Canucks\\t29\\t45\\t6\\t64\\t284\\t327\\t--\\n\\nATLANTIC DIVISION\\tW\\tL\\tT\\tPTS\\tGF\\tGA\\tLYF\\nSt John's Maple Leafs\\t41\\t26\\t13\\t95\\t351\\t308\\t90\\nFredericton Canadiens\\t38\\t31\\t11\\t87\\t314\\t278\\t96\\nCape Breton Oilers\\t36\\t32\\t12\\t84\\t356\\t336\\t82\\nMoncton Hawks\\t\\t31\\t33\\t16\\t78\\t292\\t306\\t74\\nHalifax Citadels\\t33\\t37\\t10\\t76\\t312\\t348\\t67\\n\\n*- Last year's point total\\n#- League record total\\t\\t\\t\\n\\n    ++++++++++++++++++++++++++++++++++++++++++++++++++++++++++++++++++++++++\\n    + Bri Farenell\\t\\t\\tfarenebt@craft.camp.clarkson.edu   +\\n    + AHL, ECAC and Boston Bruins contact for rec.sport.hockey\\t\\t   +\\n    + Adirondack Red Wings, Calder Cup Champs: '81  '86  '89  '92\\t   +\\n    + Clarkson Hockey, ECAC Tournament Champs: '66  '91  '93\\t\\t   +\\n    + Glens Falls High Hockey, NY Division II State Champs: '90  '91       +\\n    + AHL fans: join the AHL mailing list: ahl-news-request@andrew.cmu.edu +\\n    ++++++++++++++++++++++++++++++++++++++++++++++++++++++++++++++++++++++++\\n   \n",
       "1974                                                                                                                                                                                                                                                                                                                                                                                                                                                                                                                                                                                                                                                                                                                                                                                                                                                                                                                                                                                                                                                                                                                                                                                                                                                                                                                                                                                                                                                                                                                                                                                                                                                                                                                                                                                                                                                                                                                                                                                                                                                                                                                                                                                                                                                                                                                                                                                                                                                                                                                                                                                                                                                                                                                        From: daniell@cory.Berkeley.EDU (Daniel Lyddy)\\nSubject: Re: Bruins vs Canadiens:\\nNntp-Posting-Host: cory.berkeley.edu\\nOrganization: University of California, at Berkeley\\nLines: 73\\n\\nIn article <1993Apr16.213513.7683@rose.com> jack.petrilli@rose.com (jack petrilli) writes:\\n>So I don't know what you mean by parity; Boston never was, is not now, \\n>and never will be as good an organization as the Montreal Canadiens.\\n>\\n\\nNever was?  Probably.  Is not now?  Debatable.  What other valid test can\\nyou think of besides the final standings or divisional playoff winner?  What\\ndo you propose, a worthless vote like they do in college football?  What a\\njoke!\\n\\n>You Boston fans make me laugh: you're going crazy based on a very \\n>recent Boston domination over Montreal in the playoffs. I mean how \\n>many cups has Boston won compared to Montreal's 23? And who do you \\n>think is going to win the **next** cup between the 2 teams? Montreal \\n>or Boston? You know Sinden's going to find some way of screwing up \\n>even this good Boston team. He'll fire Suter or trade away a vital \\n>star. (Admittedly, his last few trades have been good ones but how \\n>long before his luck runs out and he starts making Esposito-for-\\n>Ratelle type trades again?) \\n>\\n\\nIf I remember right, Brad Park was also involved in that trade.  He wasn't\\nall that bad a hockey player.\\n\\nBut let's look at some of Sinden's trades over the years:\\n\\n??? for Rick Middleton (Rangers).  I don't know who Sinden gave up for Middle-\\nton, so I'll call this one a +.\\n\\nBarry Pederson for Cam Neely (Canucks).  +++.  Any questions?\\n\\nGreg Hawgood for Vladimir Ruzicka (Oilers). ++.  Didja see that one Rosie\\nroofed against Roy in last year's playoffs?\\n\\nCourtnall/Ranford for Andy Moog (Oilers).  A wash.  Moog is a good goaltender,\\nRanford burned Boston in the Finals in his first year, and Courtnall always\\nseems to get his points.  Anyone in Vancouver care to comment on Courtnall\\nas a defensive liability?\\n\\nKen Linseman for Dave Poulin (Flyers) ++.  Any more questions?\\n\\nJanney/Quintal for Adam Oates (Blues).  ++.  Janney is an enormous talent and\\na personable guy, the the Bruins play in Adam's Division.  Enough said?\\n\\nSo,even if you count the Esposito/Vadnais/Ratelle/Park/I don't remember who \\nelse (Joe Zanussi?) trade as a double minus, Harry the Horse trader comes\\nout on top.  I submit that the Bruins are always good because of Harry, not\\nin spite of him.\\n\\nBTW, do you really think the Habs will bounce back next season.  I'll bet \\nthey finish fourth or fifth in the Conference, behind any of the following:\\nPittsburgh, Quebec, Boston, Washington, Islanders.  Someone correct me if\\nthese five teams will not be in Montreal's conference.\\n\\nIn summary, things look bleak for the Habs, at least in the near future.  I\\nsuspect that the next team from La Belle Province to win the Cup will be\\nthat team that Lindros didn't want to play for.\\n\\n>I admit that I've been suffering lately with the Boston gets hot while \\n>Montreal swans in the playoffs type years. But I **do** have the sure \\n>knowledge that the Montreal braintrust will keep plugging away until \\n>they hit the right formula for yet another cup. Whereas if I were a \\n>Boston fan, I'd have this kind of despair that as long as Harry Sinden \\n>is running the show, the Bruins will always be good but **never** \\n>good enough.\\n>\\n>- Jack\\n\\n-- \\nDan Lyddy    daniell@cory.berkeley.edu    University of California at Berkeley\\n\\nMy Two Favorite Hockey Teams:  1) The Boston Bruins\\n                               2) Whoever's playing Pittsburgh\\n   \n",
       "1975                                                                                                                                                                                                                                                                                                                                                                                                                                                                                                                                                                                                                                                                                                                                                                                                                                                                                                                                                                                                                                                                                                                                                                                                                                                                                                                                                                                                                                                                                                                                                                                                                                                                                                                                                                                                                                                                                                                                                                                                                                                                                                                                                                                                                                                                                                                                                                                                                                                                                                                                                                                                                                                                                                                                                                                                                                                                                                                                                                                                                                                                                                                                                                                                                                                                                                                                                                                                                                                                                                                                                                                                                                                                                                                                                                                                                                                                                                                                                                                                                                                                                                                                                                                                                                                                                                                                                                                                                                                                                                                                                                                                                                                                                                                                                                                                                                                                                                                                                                                                                                                                                                                                                                                                                                                                                                                                                                                                                                                                                                                                                                                                                                                                                                                                                                                                                                                                                                                                                                                                                                          From: \"Terence M. Rokop\" <tr2i+@andrew.cmu.edu>\\nSubject: Re: NCAA finals...Winner????\\nOrganization: Freshman, Physics, Carnegie Mellon, Pittsburgh, PA\\nLines: 9\\nNNTP-Posting-Host: andrew.cmu.edu\\nIn-Reply-To: <1993Apr4.165655.16932@miavx1.acs.muohio.edu>\\n\\nktgeiss@miavx1.acs.muohi writes:\\n\\n>Lake State/Maine in finals...WHO WON?   Please post.\\n\\nMaine 5, LSSU 4.\\n\\n\\n\\n                                                Terry\\n   \n",
       "1976  From: MLINDROOS@FINABO.ABO.FI (Marcus Lindroos INF)\\nSubject: Finland/Sweden vs.NHL teams (WAS:Helsinki/Stockholm &amp; NHL expansion)\\nIn-Reply-To: tervio@katk.Helsinki.FI's message of Thu, 15 Apr 1993 09:39:37 GMT\\nOrganization: Abo Akademi University, Finland\\nX-News-Reader: VMS NEWS 1.24\\nLines: 120\\n\\nIn <tervio.40@katk.Helsinki.FI> tervio@katk.Helsinki.FI writes:\\n\\n>    Now what if the two teams were merged (this has been proposed in Tampere \\n> with Ilves ( =Lynx) and Tappara ( =Axe).  The fans wouldn't take it !\\n> They rather see their teams out of the playoffs most of the time or even \\n> relegated than merged.  It's not that difficult to understand, it's just \\n> like here in Helsinki.  You *grow up* being either a Jokerit- or HIFK -fan.\\n> The other team is the last team in the world you would support.  I'm not \\n> talking about 'hate' but about extremely deeply rooted rivalry.\\n\\n\"Deeply rooted rivalry?\" Ahem, Jokerit have been around since 1967 and joined\\nthe top flight only in the early '70s. Helsingfors IFK have been around since\\n1897 but fans only started taking hockey seriously in the 1960s so I think\\nyou're exagerating here.\\n\\n>    However, it's been proved that both fan groups can cheer the same team\\n> - that's \"the Finnish national team\".  Maybe that's how you could set up a \\n> huge franchise in Finland.  No one has ever said that the team must be \\n> called after one city or play all its games on one arena.  Just one Team \\n> Finland and Team Sweden in the NHL just wouldn't make any sense - we have \\n> way more talent than 1/24th of the total of North American talent.  After a \\n> couple of seasons you would never see the cup going anywhere outside the \\n> Nordic  (presuming that our teams would have the advantage in  drafting \\n> local talent, as prooposed).\\n\\nThat's a rather bold claim, in the light of how successful the Canadian &amp;\\nAmerican Olympic teams have been . . . and they've had to play according to our\\nset of rules and on international ice. The 1992 Olympic teams contained about\\nas much talent as your average expansion team. Canada had Eric Lindros, Sean\\nBurke, Joe Juneau and Chris Kontos. Another four or five have been deep subs in\\nthe NHL. As for the Yanks, Keith Tkachuk, Scott Lachance, Bret Hedican, Shawn \\nMcEachern, Steve Heintze, Ted Donato, Joe Sacco and Bill Guerin have been \\n3rd/4th line players in the NHL, while Robb Stauber has done well for the \\nKings in goal. Nothing more. In fact, I'm sure that an All-Star team assembled\\nfrom the best Finnish League teams would do no better in the NHL than Hartford \\nor Tampa Bay currently are doing.\\n---\\nBut what happens if _all_ top-class Finnish &amp; Swedish players gradually end up\\nwith Helsinki &amp; Stockholm as the North American-based ones gradually retire and\\nno Canadian/American team is allowed to draft new players from Scandinavia? \\nHere is what THE HOCKEY NEWS scouts think of our NHL-based players:\\n\\n(28-30=superstar)\\n(23-27=star)\\n(18-22=NHL regular+)\\n(13-17=NHL regular)\\n( 8-12=role player)\\n\\nFINLAND:  \\n\\nD-Jyrki Lumme.......20\\nD-Teppo Numminen....20\\nD-Peter Ahola.......13\\n\\nC-Jari Kurri........25\\nC-Christian Ruuttu..16\\n\\nR-Teemu Selanne.....27\\n\\nL-Esa Tikkanen......20\\n(Obviously, Selanne's ratings would be higher today than they were in January)\\n\\nSWEDEN:\\nD-Ulf Samuelsson....21\\nD-Fredrik Olausson..20\\nD-Niklas Lidstrom...18\\nD-Calle Johansson...18\\nD-Kjell Samuelsson..17\\nD-Tommy Sjodin......13\\nD-Tommy Albelin......7\\n\\nC-Mats Sundin.......26\\nC-Thomas Steen......18\\n\\nR-Thomas Sandstrom..22\\nR-Ulf Dahlen........18\\nR-Michael Nylander..13\\n\\nL-Per-Erik Eklund...18\\nL-Johan Garpenlov...16\\nL-Mikael Andersson..15\\nL-Jan Erixon........14\\n\\nThis would be interesting. Clearly, Finland's top five players (Winnipeg's\\nSelanne &amp; Numminen, Vancouver's Lumme, Los Angeles' Jari Kurri and New York's\\nTikkanen) are right up there with any five-man unit Pittsburgh &amp; co. have. But\\nI have my doubts about the home-based Finnish players - the national team did\\nwell in the Canada Cup and World Championships largely due to the efforts of\\nMarkus Ketterer (the goalie), 3-4 or the players listed above and luck. There's\\npresumably a lot of decent players in Finland that wouldn't be superstars at\\nthe highest level but still valuable role players, however. My guess would be\\nthat the Finnish Canada Cup team would be a .500 team in the NHL.\\n---\\nSweden is easier to judge because they have more players in North America.\\nTheir points total (16 players) is 274 - seven more than Ottawa's 22 top\\nplayers combined! If we estimate there are six more NHL regulars back home in \\nSweden, an all-Swedish team would assemble about 350-360 skill points.\\nDeducting some points from Pittsburgh, NY Rangers and other teams that rely on\\nSwedish players, the Swedish team would finish in sixth place - about as high\\nas Boston, Vancouver, Calgary and Montreal on paper! So, the \"dynasty\" talk\\nisn't completely unfounded here. An all-Finnish/all-Swedish team might have an\\nadvantage because the players would be playing at home half of the time,\\nwon't have to adapt to a foreign country and a foreign language, and presumably\\nplay the wide-open European variant of hockey rather than have to learn the\\nNorth American checking game. However, if free agency becomes a factor the top \\nScandinavian players still might end up playing for large-market teams after a \\ncouple of years the same way Edmonton's \"dynasty\" crumbled in the late '80s. \\nSome fringe players likely will be drafted by other NHL teams as having an \\nexclusive talent pool might be a bit unfair after all. I'd settle for a \\ncompromise, prohibit all European teams from signing a North American during \\nthe first two rounds but allow them to keep their top two players. After this, \\nthe amateur draft should be open to anyone. \\n\\n> -----------------------------------------------------------------------------\\n>  J O O   J O O   J O K E R I T  !  !  !    Finland over Czech in the Final\\n>    B R U I N P O W E R ! ! !               Bruins over Blackhawks in 6 \\n> -----------------------------------------------------------------------------\\n\\nMARCU$\\n     \\n   \n",
       "\n",
       "      label  \n",
       "0         0  \n",
       "1         0  \n",
       "2         0  \n",
       "3         0  \n",
       "4         0  \n",
       "...     ...  \n",
       "1972      1  \n",
       "1973      1  \n",
       "1974      1  \n",
       "1975      1  \n",
       "1976      1  \n",
       "\n",
       "[1977 rows x 2 columns]"
      ]
     },
     "execution_count": 35,
     "metadata": {},
     "output_type": "execute_result"
    }
   ],
   "source": [
    "df."
   ]
  },
  {
   "cell_type": "code",
   "execution_count": 36,
   "metadata": {
    "ExecuteTime": {
     "end_time": "2024-09-12T09:50:31.538319Z",
     "start_time": "2024-09-12T09:50:31.534173Z"
    }
   },
   "outputs": [
    {
     "name": "stdout",
     "output_type": "stream",
     "text": [
      "From: gary@ke4zv.uucp (Gary Coffman)\n",
      "Subject: Re: Philosophy Quest. How Boldly?\n",
      "Reply-To: gary@ke4zv.UUCP (Gary Coffman)\n",
      "Organization: Destructive Testing Systems\n",
      "Lines: 104\n",
      "\n",
      "In article <1sti5kINNoq4@gap.caltech.edu> palmer@cco.caltech.edu (David M. Palmer) writes:\n",
      ">gary@ke4zv.uucp (Gary Coffman) writes:\n",
      ">>Lack of a skeleton means that muscles have to actively resist\n",
      ">>gravity at all times on land rather than supplying only balancing\n",
      ">>forces. That means that much more energy would be required for the\n",
      ">>creature to function. The bones also supply leverage points for\n",
      ">>pushing and lateral movement. That's why you don't find large \n",
      ">>active boneless creatures on land.\n",
      ">\n",
      ">Hydraulics can make rigid tubes.  No energy required just for\n",
      ">support.  Hydraulics also allow a creature to produce large\n",
      ">forces with weak muscles, using the principle of a hydraulic jack\n",
      ">rather than a lever.\n",
      "\n",
      "This is one of those \"yes, but\" things. It's true that a hydraulically\n",
      "pressurized tube can be somewhat more rigid than an unpressurized tube,\n",
      "but even at 2000 PSI levels a hydraulic hose will bend rather easily,\n",
      "though it's straight-on compressive strength is high, and it's torsional \n",
      "resistance increase is practically nil. On the other grasping member, \n",
      "there's no doubt that hydraulic \"leverage\" exists in nature. Tree roots \n",
      "are an example. Given time they can shatter concrete as osmotic pressure\n",
      "increases.\n",
      "\n",
      ">>It's interesting to note that, on\n",
      ">>land, creatures are either two legged or 4 legged, with tiny insects\n",
      ">>having 6 or 8 legs, but never 3 legged, though that would be a \n",
      ">>stable configuration. It can be argued that 2 legged creatures \n",
      ">\n",
      ">Kangaroos are 3-legged.  The specific number of limbs a creature has is\n",
      ">an accident of evolution, it is hard to make changes in some\n",
      ">structures.  The panda has a thumb plus as many fingers as its\n",
      ">ancestors (five?) on each hand, but the thumb is a modified wristbone\n",
      ">rather than a modified finger, and extra fingers are much more common\n",
      ">than extra limbs, especially fully-functional ones.\n",
      "\n",
      "Kangaroos 3-limbed? I don't think so. If you take the view that the\n",
      "tail is a limb, then monkeys and kangaroos are 5-limbed. I think the\n",
      "tail is a different kind of structure, grossly enlarged in the case\n",
      "of the kangaroo, but primarily still an instrument of balance rather\n",
      "than locomotion. I don't know much about panda \"thumbs\", so I'll ask\n",
      "is it opposable?\n",
      "\n",
      ">>Thermodynamic considerations of surface/volume relationships would\n",
      ">>seem to dictate that active complex creatures  stay in a size range\n",
      ">>similar to what we see about us. 6 inch tall intelligent aliens\n",
      ">>seem unlikely, as do those much larger than the elephant.\n",
      ">\n",
      ">Why can't a lemur or a brontosaurus* be intelligent?\n",
      ">\n",
      ">[*Yes, I know that the brontosaurus is a mythical beast produced by\n",
      ">putting the head of another dinosaur on an apatosaurus, but so far\n",
      ">space aliens are also mythical.]\n",
      "\n",
      "Well I won't say flat out that they can't be intelligent, but I'll\n",
      "bring a couple of lines of argument to bear to try to show why I\n",
      "don't think it's likely. First let me say that when I say \"intelligent\"\n",
      "I mean complex behaviors in response to novel situations on a level\n",
      "with, or greater than, human tool use and tool building. IE assuming\n",
      "suitable manipulators are present on the creature to allow it to alter \n",
      "it's enviroment in a planned way, it will do so. That's certainly not\n",
      "a universal or complete definition of intelligence, but it will suffice\n",
      "for a putative technological alien.\n",
      "\n",
      "Now no one knows exactly what makes a brain capable of thought, but\n",
      "it's generally accepted that one of the criteria is a certain level\n",
      "of complexity. This is generally determined by the number of neuron\n",
      "cells, and their interconnections. So a creature the size of a lemur\n",
      "wouldn't have enough neurons to support complex thought. This argument\n",
      "is considerably less clear in the case of the dinosaur. There's room\n",
      "for a large brain, though no indication that one ever developed. One\n",
      "reason this may be true is neuronic speed. The electrochemical messages \n",
      "that trigger neurons require time to propagate. This makes it difficult\n",
      "for a highly complex central brain to coordinate the movements of very\n",
      "large creatures. So there's little selection pressure for such brains.\n",
      "Instead, a simpler distributed network evolves. This doesn't rule out\n",
      "intelligent dinosaurs, but it points in that direction.\n",
      "\n",
      "Then there are the thermodynamic arguments. A tiny creature like the\n",
      "lemur needs to eat frequently because it's internal heat is rapidly\n",
      "lost due to it's high surface to volume ratio. I contend that a creature\n",
      "that must spend most of it's time and energy feeding won't have the time\n",
      "to develop and exercise intelligence. That argument may be somewhat weak.\n",
      "The dinosaur's problem is the reverse, it must moderate it's heat production \n",
      "because it's high volume to surface ratio makes it tend to retain waste heat. \n",
      "I'm assuming that a certain temperature range is optimal for chemical\n",
      "reactivity reasons for productive neuron function. So creatures would\n",
      "tend to need to maintain a regulated temperature in a range near that\n",
      "of humans if they are carbon based. That tends to rule out cold blooded\n",
      "creatures as potential homes of intelligence. Some people contend that\n",
      "some of the dinosaurs may have been warm blooded. But for a creature\n",
      "the size of a brontosaur, it's activity levels would have to be restrained\n",
      "or it would be prone to generate an internal steam explosion from the\n",
      "waste heat. Whales are similar size, but they can reject heat to the\n",
      "ocean, a much more efficient sink than air. I suspect that for intelligence\n",
      "to manifest itself, a certain degree of activity in interacting with the\n",
      "environment is necessary. IE monkey curiousity. I doubt a large dinosaur\n",
      "would be capable of that much activity.\n",
      "\n",
      "Gary\n",
      "-- \n",
      "Gary Coffman KE4ZV          |    You make it,     | gatech!wa4mei!ke4zv!gary\n",
      "Destructive Testing Systems |    we break it.     | uunet!rsiatl!ke4zv!gary\n",
      "534 Shannon Way             |    Guaranteed!      | emory!kd4nc!ke4zv!gary \n",
      "Lawrenceville, GA 30244     |                     | \n"
     ]
    }
   ],
   "source": [
    "#See some random space posts\n",
    "test = df[\"label\"] == 0\n",
    "random_post = df[test].sample(1)\n",
    "print(random_post[\"text\"].item())"
   ]
  },
  {
   "cell_type": "code",
   "execution_count": 37,
   "metadata": {
    "ExecuteTime": {
     "end_time": "2024-09-12T09:50:31.555931Z",
     "start_time": "2024-09-12T09:50:31.551323Z"
    }
   },
   "outputs": [
    {
     "name": "stdout",
     "output_type": "stream",
     "text": [
      "From: vergolin@euler.lbs.msu.edu (David Vergolini)\n",
      "Subject: Montreal versue Quebec\n",
      "Organization: Michigan State University\n",
      "Lines: 18\n",
      "NNTP-Posting-Host: euler.lbs.msu.edu\n",
      "Summary: Montreal wins game 3, but not without controversy.\n",
      "Keywords: Montreal wins a game to get back into the series\n",
      "\n",
      "  Did anyone see the Montreal - Quebec game yesterday?  It was tight right down\n",
      "to the last second of the third period.  In the overtime Roy and Hextall played\n",
      "like they were gods.\n",
      "  Ok, so Montreal won!  They deserved it after getting their first goal in\n",
      "overtime waved off because the puck was hit in with a high stick.  Their second\n",
      "goal in overtime was also replayed, but I could not tell if it was the Montreal\n",
      "player who kicked it in.  The puck definitely was not directed in by a stick.\n",
      "Anyways, Montreal is back into the series.\n",
      "\n",
      "\n",
      "\n",
      "\n",
      "\n",
      "\n",
      "\n",
      "                                                Dave Vergolini\n",
      "                                                Michigan State University\n",
      "                                                vergolin@euler.lbs.msu.edu\n"
     ]
    }
   ],
   "source": [
    "#See some random hockey posts\n",
    "test = df[\"label\"] == 1\n",
    "random_post = df[test].sample(1)\n",
    "print(random_post[\"text\"].item())"
   ]
  },
  {
   "cell_type": "code",
   "execution_count": 38,
   "metadata": {
    "ExecuteTime": {
     "end_time": "2024-09-12T09:50:41.811647Z",
     "start_time": "2024-09-12T09:50:31.566937Z"
    }
   },
   "outputs": [
    {
     "name": "stderr",
     "output_type": "stream",
     "text": [
      "C:\\coding_projects\\ual_cci\\peckham-daz\\24-intro-to-data-science\\daz-venv\\Lib\\site-packages\\sklearn\\feature_extraction\\text.py:521: UserWarning: The parameter 'token_pattern' will not be used since 'tokenizer' is not None'\n",
      "  warnings.warn(\n"
     ]
    }
   ],
   "source": [
    "#I've added in my own tokens I want to remove\n",
    "remove = list(_stop_words.ENGLISH_STOP_WORDS) + [\"%\",\"!\",\",\",\":\",\"@\",\"£\",\"$\",\"&\",\"*\",\"(\",\")\",\"?\",\"<\",\">\",\".\",\"+\",\"_\",\"|\",\"/\",\"-\"]\n",
    "def my_tokeniser(doc):\n",
    "    #\n",
    "    tokens =  casual_tokenize(doc)\n",
    "    processed = []\n",
    "    for t in tokens:\n",
    "        #make lowercase\n",
    "        t = t.lower()\n",
    "        #Remove stop words\n",
    "        if not t in remove:\n",
    "            processed.append(t)\n",
    "    #Return an array of tokens for that document\n",
    "    return processed\n",
    "# Make TFIDF Vectoriser\n",
    "\n",
    "# more on TF-IDF: https://en.wikipedia.org/wiki/Tf%E2%80%93idf\n",
    "vectoriser = TfidfVectorizer(tokenizer=my_tokeniser)\n",
    "# Fit the model\n",
    "tfidf_model = vectoriser.fit(df[\"text\"])\n",
    "#Get the vocab\n",
    "vocab = np.array(tfidf_model.get_feature_names_out())\n",
    "\n",
    "#Get vectors for everything\n",
    "vectorised = tfidf_model.transform(df[\"text\"]) #.todense()\n",
    "vectorised_df = pd.DataFrame(vectorised.todense(), columns = vocab)\n",
    "#Get vectors for space articles\n",
    "vectorised_space = tfidf_model.transform(df[df[\"label\"] == 0][\"text\"])\n",
    "vectorised_space_df = pd.DataFrame(vectorised_space.todense(), columns = vocab)\n",
    "#Get vectors for hockey articles\n",
    "vectorised_hockey = tfidf_model.transform(df[df[\"label\"] == 1][\"text\"])\n",
    "vectorised_hockey_df = pd.DataFrame(vectorised_hockey.todense(), columns = vocab)\n"
   ]
  },
  {
   "cell_type": "code",
   "execution_count": 39,
   "metadata": {
    "ExecuteTime": {
     "end_time": "2024-09-12T09:50:43.792695Z",
     "start_time": "2024-09-12T09:50:41.812649Z"
    }
   },
   "outputs": [],
   "source": [
    "#Get SVD vectors\n",
    "svd = TruncatedSVD(n_components = 16, n_iter = 100) \n",
    "svd_topic_vectors = svd.fit_transform(vectorised)"
   ]
  },
  {
   "cell_type": "code",
   "execution_count": 40,
   "metadata": {
    "ExecuteTime": {
     "end_time": "2024-09-12T09:50:43.803573Z",
     "start_time": "2024-09-12T09:50:43.792695Z"
    }
   },
   "outputs": [
    {
     "data": {
      "text/html": [
       "<div>\n",
       "<style scoped>\n",
       "    .dataframe tbody tr th:only-of-type {\n",
       "        vertical-align: middle;\n",
       "    }\n",
       "\n",
       "    .dataframe tbody tr th {\n",
       "        vertical-align: top;\n",
       "    }\n",
       "\n",
       "    .dataframe thead th {\n",
       "        text-align: right;\n",
       "    }\n",
       "</style>\n",
       "<table border=\"1\" class=\"dataframe\">\n",
       "  <thead>\n",
       "    <tr style=\"text-align: right;\">\n",
       "      <th></th>\n",
       "      <th>topic0</th>\n",
       "      <th>topic1</th>\n",
       "      <th>topic2</th>\n",
       "      <th>topic3</th>\n",
       "      <th>topic4</th>\n",
       "      <th>topic5</th>\n",
       "      <th>topic6</th>\n",
       "      <th>topic7</th>\n",
       "      <th>topic8</th>\n",
       "      <th>topic9</th>\n",
       "      <th>topic10</th>\n",
       "      <th>topic11</th>\n",
       "      <th>topic12</th>\n",
       "      <th>topic13</th>\n",
       "      <th>topic14</th>\n",
       "      <th>topic15</th>\n",
       "    </tr>\n",
       "  </thead>\n",
       "  <tbody>\n",
       "    <tr>\n",
       "      <th>\u001A</th>\n",
       "      <td>0.000422</td>\n",
       "      <td>-0.000241</td>\n",
       "      <td>0.000352</td>\n",
       "      <td>0.000398</td>\n",
       "      <td>0.000634</td>\n",
       "      <td>-0.000024</td>\n",
       "      <td>-0.000084</td>\n",
       "      <td>0.000109</td>\n",
       "      <td>0.000198</td>\n",
       "      <td>-0.000178</td>\n",
       "      <td>0.001843</td>\n",
       "      <td>-0.000037</td>\n",
       "      <td>-0.000972</td>\n",
       "      <td>0.000121</td>\n",
       "      <td>0.000459</td>\n",
       "      <td>0.001395</td>\n",
       "    </tr>\n",
       "    <tr>\n",
       "      <th>\"</th>\n",
       "      <td>0.357000</td>\n",
       "      <td>-0.218056</td>\n",
       "      <td>0.099396</td>\n",
       "      <td>-0.109315</td>\n",
       "      <td>0.000278</td>\n",
       "      <td>-0.354352</td>\n",
       "      <td>0.184803</td>\n",
       "      <td>-0.275363</td>\n",
       "      <td>0.191470</td>\n",
       "      <td>-0.011028</td>\n",
       "      <td>-0.269870</td>\n",
       "      <td>0.039086</td>\n",
       "      <td>0.237521</td>\n",
       "      <td>-0.134491</td>\n",
       "      <td>0.191819</td>\n",
       "      <td>0.047395</td>\n",
       "    </tr>\n",
       "    <tr>\n",
       "      <th>#</th>\n",
       "      <td>0.035371</td>\n",
       "      <td>0.045059</td>\n",
       "      <td>0.004864</td>\n",
       "      <td>0.007289</td>\n",
       "      <td>-0.016405</td>\n",
       "      <td>-0.005365</td>\n",
       "      <td>-0.021648</td>\n",
       "      <td>0.003690</td>\n",
       "      <td>0.039505</td>\n",
       "      <td>0.002727</td>\n",
       "      <td>-0.007519</td>\n",
       "      <td>-0.020254</td>\n",
       "      <td>0.021837</td>\n",
       "      <td>0.059578</td>\n",
       "      <td>-0.032228</td>\n",
       "      <td>-0.046982</td>\n",
       "    </tr>\n",
       "    <tr>\n",
       "      <th>###___</th>\n",
       "      <td>0.000617</td>\n",
       "      <td>0.000110</td>\n",
       "      <td>-0.000808</td>\n",
       "      <td>0.000483</td>\n",
       "      <td>-0.001313</td>\n",
       "      <td>-0.000712</td>\n",
       "      <td>-0.001182</td>\n",
       "      <td>-0.001182</td>\n",
       "      <td>0.000285</td>\n",
       "      <td>-0.000189</td>\n",
       "      <td>0.000019</td>\n",
       "      <td>-0.000362</td>\n",
       "      <td>0.000408</td>\n",
       "      <td>0.000921</td>\n",
       "      <td>0.002288</td>\n",
       "      <td>-0.000389</td>\n",
       "    </tr>\n",
       "    <tr>\n",
       "      <th>#0362</th>\n",
       "      <td>0.001209</td>\n",
       "      <td>-0.001355</td>\n",
       "      <td>0.001906</td>\n",
       "      <td>-0.001022</td>\n",
       "      <td>0.000004</td>\n",
       "      <td>-0.000420</td>\n",
       "      <td>0.000647</td>\n",
       "      <td>0.001524</td>\n",
       "      <td>-0.001376</td>\n",
       "      <td>0.001045</td>\n",
       "      <td>-0.000234</td>\n",
       "      <td>-0.001567</td>\n",
       "      <td>-0.001839</td>\n",
       "      <td>-0.000858</td>\n",
       "      <td>0.000290</td>\n",
       "      <td>-0.000094</td>\n",
       "    </tr>\n",
       "    <tr>\n",
       "      <th>...</th>\n",
       "      <td>...</td>\n",
       "      <td>...</td>\n",
       "      <td>...</td>\n",
       "      <td>...</td>\n",
       "      <td>...</td>\n",
       "      <td>...</td>\n",
       "      <td>...</td>\n",
       "      <td>...</td>\n",
       "      <td>...</td>\n",
       "      <td>...</td>\n",
       "      <td>...</td>\n",
       "      <td>...</td>\n",
       "      <td>...</td>\n",
       "      <td>...</td>\n",
       "      <td>...</td>\n",
       "      <td>...</td>\n",
       "    </tr>\n",
       "    <tr>\n",
       "      <th>{=</th>\n",
       "      <td>0.000476</td>\n",
       "      <td>-0.000264</td>\n",
       "      <td>0.000597</td>\n",
       "      <td>0.000019</td>\n",
       "      <td>-0.000629</td>\n",
       "      <td>0.001485</td>\n",
       "      <td>0.000087</td>\n",
       "      <td>-0.001709</td>\n",
       "      <td>0.000845</td>\n",
       "      <td>0.000809</td>\n",
       "      <td>-0.000127</td>\n",
       "      <td>0.000106</td>\n",
       "      <td>0.000005</td>\n",
       "      <td>0.001021</td>\n",
       "      <td>0.000800</td>\n",
       "      <td>-0.000346</td>\n",
       "    </tr>\n",
       "    <tr>\n",
       "      <th>|-=</th>\n",
       "      <td>0.000534</td>\n",
       "      <td>0.000653</td>\n",
       "      <td>0.001153</td>\n",
       "      <td>0.007039</td>\n",
       "      <td>0.006593</td>\n",
       "      <td>-0.000108</td>\n",
       "      <td>-0.001983</td>\n",
       "      <td>-0.000672</td>\n",
       "      <td>0.001475</td>\n",
       "      <td>-0.000926</td>\n",
       "      <td>-0.002422</td>\n",
       "      <td>-0.000446</td>\n",
       "      <td>0.000640</td>\n",
       "      <td>-0.000104</td>\n",
       "      <td>0.000974</td>\n",
       "      <td>-0.002635</td>\n",
       "    </tr>\n",
       "    <tr>\n",
       "      <th>}</th>\n",
       "      <td>0.005507</td>\n",
       "      <td>0.001713</td>\n",
       "      <td>0.005345</td>\n",
       "      <td>0.002423</td>\n",
       "      <td>-0.000254</td>\n",
       "      <td>-0.001714</td>\n",
       "      <td>-0.001009</td>\n",
       "      <td>0.002067</td>\n",
       "      <td>-0.005284</td>\n",
       "      <td>0.000578</td>\n",
       "      <td>0.000904</td>\n",
       "      <td>0.007490</td>\n",
       "      <td>-0.001999</td>\n",
       "      <td>0.005598</td>\n",
       "      <td>-0.009240</td>\n",
       "      <td>-0.009018</td>\n",
       "    </tr>\n",
       "    <tr>\n",
       "      <th>};</th>\n",
       "      <td>0.000068</td>\n",
       "      <td>-0.000036</td>\n",
       "      <td>0.000188</td>\n",
       "      <td>0.000141</td>\n",
       "      <td>0.000046</td>\n",
       "      <td>-0.000013</td>\n",
       "      <td>0.000003</td>\n",
       "      <td>0.000159</td>\n",
       "      <td>-0.000076</td>\n",
       "      <td>0.000015</td>\n",
       "      <td>0.000026</td>\n",
       "      <td>0.000101</td>\n",
       "      <td>0.000153</td>\n",
       "      <td>0.000042</td>\n",
       "      <td>-0.000101</td>\n",
       "      <td>-0.000247</td>\n",
       "    </tr>\n",
       "    <tr>\n",
       "      <th>~</th>\n",
       "      <td>0.075657</td>\n",
       "      <td>0.001791</td>\n",
       "      <td>-0.086537</td>\n",
       "      <td>0.352534</td>\n",
       "      <td>-0.252658</td>\n",
       "      <td>0.199741</td>\n",
       "      <td>0.554500</td>\n",
       "      <td>-0.105813</td>\n",
       "      <td>-0.171147</td>\n",
       "      <td>0.064508</td>\n",
       "      <td>0.048936</td>\n",
       "      <td>0.026848</td>\n",
       "      <td>0.019880</td>\n",
       "      <td>-0.033592</td>\n",
       "      <td>0.042033</td>\n",
       "      <td>0.062276</td>\n",
       "    </tr>\n",
       "  </tbody>\n",
       "</table>\n",
       "<p>34959 rows × 16 columns</p>\n",
       "</div>"
      ],
      "text/plain": [
       "          topic0    topic1    topic2    topic3    topic4    topic5    topic6  \\\n",
       "\u001A       0.000422 -0.000241  0.000352  0.000398  0.000634 -0.000024 -0.000084   \n",
       "\"       0.357000 -0.218056  0.099396 -0.109315  0.000278 -0.354352  0.184803   \n",
       "#       0.035371  0.045059  0.004864  0.007289 -0.016405 -0.005365 -0.021648   \n",
       "###___  0.000617  0.000110 -0.000808  0.000483 -0.001313 -0.000712 -0.001182   \n",
       "#0362   0.001209 -0.001355  0.001906 -0.001022  0.000004 -0.000420  0.000647   \n",
       "...          ...       ...       ...       ...       ...       ...       ...   \n",
       "{=      0.000476 -0.000264  0.000597  0.000019 -0.000629  0.001485  0.000087   \n",
       "|-=     0.000534  0.000653  0.001153  0.007039  0.006593 -0.000108 -0.001983   \n",
       "}       0.005507  0.001713  0.005345  0.002423 -0.000254 -0.001714 -0.001009   \n",
       "};      0.000068 -0.000036  0.000188  0.000141  0.000046 -0.000013  0.000003   \n",
       "~       0.075657  0.001791 -0.086537  0.352534 -0.252658  0.199741  0.554500   \n",
       "\n",
       "          topic7    topic8    topic9   topic10   topic11   topic12   topic13  \\\n",
       "\u001A       0.000109  0.000198 -0.000178  0.001843 -0.000037 -0.000972  0.000121   \n",
       "\"      -0.275363  0.191470 -0.011028 -0.269870  0.039086  0.237521 -0.134491   \n",
       "#       0.003690  0.039505  0.002727 -0.007519 -0.020254  0.021837  0.059578   \n",
       "###___ -0.001182  0.000285 -0.000189  0.000019 -0.000362  0.000408  0.000921   \n",
       "#0362   0.001524 -0.001376  0.001045 -0.000234 -0.001567 -0.001839 -0.000858   \n",
       "...          ...       ...       ...       ...       ...       ...       ...   \n",
       "{=     -0.001709  0.000845  0.000809 -0.000127  0.000106  0.000005  0.001021   \n",
       "|-=    -0.000672  0.001475 -0.000926 -0.002422 -0.000446  0.000640 -0.000104   \n",
       "}       0.002067 -0.005284  0.000578  0.000904  0.007490 -0.001999  0.005598   \n",
       "};      0.000159 -0.000076  0.000015  0.000026  0.000101  0.000153  0.000042   \n",
       "~      -0.105813 -0.171147  0.064508  0.048936  0.026848  0.019880 -0.033592   \n",
       "\n",
       "         topic14   topic15  \n",
       "\u001A       0.000459  0.001395  \n",
       "\"       0.191819  0.047395  \n",
       "#      -0.032228 -0.046982  \n",
       "###___  0.002288 -0.000389  \n",
       "#0362   0.000290 -0.000094  \n",
       "...          ...       ...  \n",
       "{=      0.000800 -0.000346  \n",
       "|-=     0.000974 -0.002635  \n",
       "}      -0.009240 -0.009018  \n",
       "};     -0.000101 -0.000247  \n",
       "~       0.042033  0.062276  \n",
       "\n",
       "[34959 rows x 16 columns]"
      ]
     },
     "execution_count": 40,
     "metadata": {},
     "output_type": "execute_result"
    }
   ],
   "source": [
    "topic_weights = pd.DataFrame(svd.components_.T, index=vocab, columns=['topic{}'.format(i) for i in range(16)])\n",
    "topic_weights #display it"
   ]
  },
  {
   "cell_type": "code",
   "execution_count": 41,
   "metadata": {
    "ExecuteTime": {
     "end_time": "2024-09-12T09:50:43.811496Z",
     "start_time": "2024-09-12T09:50:43.804579Z"
    }
   },
   "outputs": [
    {
     "data": {
      "text/plain": [
       "0          0.266929\n",
       "space      0.241685\n",
       "1          0.226604\n",
       "=          0.143722\n",
       "henry      0.111980\n",
       "shuttle    0.109871\n",
       "\"          0.099396\n",
       "2          0.092341\n",
       "hst        0.091610\n",
       "mission    0.088765\n",
       "Name: topic2, dtype: float64"
      ]
     },
     "execution_count": 41,
     "metadata": {},
     "output_type": "execute_result"
    }
   ],
   "source": [
    "topic_weights.topic2.sort_values(ascending=False).head(10) # show top 10 weighted words for topic 2"
   ]
  },
  {
   "cell_type": "markdown",
   "metadata": {},
   "source": [
    "# Supervised Machine Learning \n",
    "\n",
    "But what if we had specific labels that we wanted to attach to documents that we knew about before hand? \n",
    "\n",
    "- Is this text spam or not?\n",
    "- Is this book about horror, sci-fi or cooking?\n",
    "- Is this song going to be a hit?\n",
    "\n",
    "This is where **supervised machine learning** comes in, specifically, **classification**. \n",
    "\n",
    "To try and get a feel for the task of classification, we're going to have a look at each class and see if we think it wll be easy to a computer program that can pick apart these two groups.\n",
    "\n",
    "We're going to try an experiment to see if we can find two words that would allow us to decide if a document was from the space group or the hockey group."
   ]
  },
  {
   "cell_type": "code",
   "execution_count": 42,
   "metadata": {
    "ExecuteTime": {
     "end_time": "2024-09-12T09:50:43.821129Z",
     "start_time": "2024-09-12T09:50:43.811496Z"
    }
   },
   "outputs": [
    {
     "name": "stdout",
     "output_type": "stream",
     "text": [
      "\n",
      "SPACE:\n",
      " \"                    56.400999\n",
      "space                41.481367\n",
      "'                    19.142211\n",
      "writes               18.996641\n",
      "=                    17.619078\n",
      "subject              16.957876\n",
      "article              16.869986\n",
      "moon                 16.705737\n",
      "lines                16.551744\n",
      "...                  16.489472\n",
      "henry                16.449825\n",
      "organization         16.370213\n",
      "shuttle              16.215700\n",
      "pat                  16.187846\n",
      "like                 15.905841\n",
      "just                 15.472184\n",
      "nasa                 15.444643\n",
      "..                   15.033720\n",
      "orbit                14.740173\n",
      "launch               13.623463\n",
      "nntp-posting-host    13.179468\n",
      "don't                12.937445\n",
      "sky                  12.795349\n",
      "mission              12.665510\n",
      "hst                  12.335688\n",
      "spencer              11.741638\n",
      "___                  11.504386\n",
      "earth                11.503030\n",
      "u                    11.436734\n",
      "distribution         10.935915\n",
      "Name: sums, dtype: float64 \n",
      "HOCKEY:\n",
      " \"                    37.334934\n",
      "game                 36.096315\n",
      "...                  34.675502\n",
      "hockey               26.707336\n",
      "team                 26.157477\n",
      "1                    22.589965\n",
      "=                    21.149818\n",
      "0                    20.365316\n",
      "university           19.542576\n",
      "espn                 19.508227\n",
      "games                19.361985\n",
      "'                    18.800617\n",
      "2                    18.296464\n",
      "nhl                  18.057916\n",
      "subject              17.361578\n",
      "organization         17.154655\n",
      "lines                17.002968\n",
      "play                 16.491390\n",
      "writes               15.962010\n",
      "players              15.712239\n",
      "\\                    14.943000\n",
      "season               14.849008\n",
      "think                14.419721\n",
      "~                    14.367369\n",
      "article              13.969403\n",
      "year                 13.851420\n",
      "3                    13.634469\n",
      "wings                13.466396\n",
      "nntp-posting-host    13.409368\n",
      "leafs                13.243589\n",
      "Name: sums, dtype: float64\n"
     ]
    }
   ],
   "source": [
    "#Sum up TFIDF score for each word across all documents\n",
    "space_sums = pd.DataFrame(vectorised_space.sum(axis = 0).T, index=vocab, columns = [\"sums\"])\n",
    "hockey_sums = pd.DataFrame(vectorised_hockey.sum(axis = 0).T, index=vocab, columns = [\"sums\"])\n",
    "print(\"\\nSPACE:\\n\", space_sums[\"sums\"].sort_values(ascending=False).head(30), \"\\nHOCKEY:\\n\", hockey_sums[\"sums\"].sort_values(ascending=False).head(30))"
   ]
  },
  {
   "cell_type": "markdown",
   "metadata": {},
   "source": [
    "### Selecting the TFxIDF values for a specific token\n",
    "\n",
    "We're going to plot the `TFxIDF` values for **each post** for **two specific tokens**.\n",
    "\n",
    "The arrays that hold our `TFxIDF` values have the shape ``numPost x lengthOfVocab`` "
   ]
  },
  {
   "cell_type": "code",
   "execution_count": 43,
   "metadata": {
    "ExecuteTime": {
     "end_time": "2024-09-12T09:50:43.825046Z",
     "start_time": "2024-09-12T09:50:43.822134Z"
    }
   },
   "outputs": [
    {
     "data": {
      "text/plain": [
       "(1977, 34959)"
      ]
     },
     "execution_count": 43,
     "metadata": {},
     "output_type": "execute_result"
    }
   ],
   "source": [
    "vectorised.shape"
   ]
  },
  {
   "cell_type": "markdown",
   "metadata": {},
   "source": [
    "We can use a **filter** to get the indexer of a **given token**\n",
    "\n",
    "``\n",
    "filter = vocab == features[0]\n",
    "``\n",
    "\n",
    "Then we can grab all the rows (using the `colon :`), given that column. \n",
    "\n",
    "We end up with **2 features** for each token, which we can plot on a graph. The colour represents **which news group the post was originally from**.\n",
    "\n",
    "### Indexes **and** objects in `for loops` with `enumerate()`\n",
    "\n",
    "Previously, we have looked at two main approaches to `for loops`. We either iterate through an array and get the **values themselves**\n",
    "\n",
    "```\n",
    "chapters = [\"chapter1\", \"chapter2\", \"chapter3\"]\n",
    "for c in chapters:\n",
    "    analyse(c)\n",
    "\n",
    "```\n",
    "\n",
    "Or we've used `range()` to iterate over some indexes\n",
    "\n",
    "```\n",
    "chapters = [\"chapter1\", \"chapter2\", \"chapter3\"]\n",
    "for i in range(len(chapters)):\n",
    "    analyse_chapter_at(i)\n",
    "\n",
    "```\n",
    "\n",
    "But **YOU CAN HAVE THEM BOTH**\n",
    "\n",
    "Below, we use the `enumerate()` function. This returns **two values** stored in **two separate variables**. The first contains the index, and the second the actual object. \n",
    "\n",
    "Turns out you can have it all. \n",
    "\n",
    "Check out the code below and see if you can understand it!"
   ]
  },
  {
   "cell_type": "code",
   "execution_count": 44,
   "metadata": {
    "ExecuteTime": {
     "end_time": "2024-09-12T09:50:43.829519Z",
     "start_time": "2024-09-12T09:50:43.825046Z"
    }
   },
   "outputs": [],
   "source": [
    "?ax.plot"
   ]
  },
  {
   "cell_type": "code",
   "execution_count": 45,
   "metadata": {
    "ExecuteTime": {
     "end_time": "2024-09-12T09:50:44.125480Z",
     "start_time": "2024-09-12T09:50:43.830526Z"
    }
   },
   "outputs": [
    {
     "data": {
      "text/plain": [
       "<matplotlib.legend.Legend at 0x255a63a3f90>"
      ]
     },
     "execution_count": 45,
     "metadata": {},
     "output_type": "execute_result"
    },
    {
     "data": {
      "image/png": "[encoded data removed]",
      "text/plain": [
       "<Figure size 1200x800 with 1 Axes>"
      ]
     },
     "metadata": {},
     "output_type": "display_data"
    }
   ],
   "source": [
    "#Which TFIDF scores would be useful when trying to determine which class?\n",
    "import matplotlib.pyplot as plt\n",
    "classes = [vectorised_space.todense(), vectorised_hockey.todense()]\n",
    "\n",
    "#Good features\n",
    "features = ['nhl', 'moon']\n",
    "\n",
    "#Bad features\n",
    "#features = ['article', 'subject']\n",
    "\n",
    "fig, ax = plt.subplots(figsize=(12,8))\n",
    "col = \"bo\"\n",
    "ax.set_xlabel(features[0])\n",
    "ax.set_ylabel(features[1])\n",
    "for i, c in enumerate(classes):\n",
    "    #Get TFIDF for all posts, for the column for each vocab\n",
    "    x = c[:, vocab == features[0]]\n",
    "    y = c[:, vocab == features[1]]\n",
    "    ax.plot(x, y, col, label = \"space\" if i == 0 else \"hockey\")\n",
    "    col = \"gx\"\n",
    "ax.legend()"
   ]
  },
  {
   "cell_type": "code",
   "execution_count": 46,
   "metadata": {
    "ExecuteTime": {
     "end_time": "2024-09-12T09:50:44.693782Z",
     "start_time": "2024-09-12T09:50:44.126497Z"
    }
   },
   "outputs": [
    {
     "data": {
      "image/png": "[encoded data removed]",
      "text/plain": [
       "<Figure size 1200x800 with 1 Axes>"
      ]
     },
     "metadata": {},
     "output_type": "display_data"
    }
   ],
   "source": [
    "#Lots of values near 0\n",
    "fig, ax = plt.subplots(figsize=(12,8))\n",
    "for i,c in enumerate(classes):\n",
    "    x = c[:, vocab == features[0]]\n",
    "    y = c[:, vocab == features[1]]\n",
    "    ax.set_xlim([0,0.5])\n",
    "    ax.set_yscale(\"log\")\n",
    "    \n",
    "    ax.hist(x, bins = 100)\n",
    "    ax.hist(y, bins = 100)\n",
    "    "
   ]
  },
  {
   "cell_type": "markdown",
   "metadata": {},
   "source": [
    "### Supervised Learning Overview"
   ]
  },
  {
   "cell_type": "code",
   "execution_count": 47,
   "metadata": {
    "ExecuteTime": {
     "end_time": "2024-09-12T09:50:44.701268Z",
     "start_time": "2024-09-12T09:50:44.695787Z"
    }
   },
   "outputs": [
    {
     "data": {
      "image/png": "[encoded data removed]",
      "text/plain": [
       "<IPython.core.display.Image object>"
      ]
     },
     "execution_count": 47,
     "metadata": {},
     "output_type": "execute_result"
    }
   ],
   "source": [
    "from IPython.display import Image\n",
    "Image(\"../media/supervisedlearninglearner.png\")"
   ]
  },
  {
   "cell_type": "markdown",
   "metadata": {},
   "source": [
    "### Models\n",
    "\n",
    "Models don't have to be constructed with machine learning. The model is simply something that when given an **input**, which in our case waill be some vectorised text, it is able to produce some **output**. In the case of **classification** this will always be a single discrete label. \n",
    "\n",
    "This model could be made by hand, and in fact some text classification models were made by hand until quite recently. However, this can be time consuming and complicated, and result in models which are not particularly robust. \n",
    "\n",
    "Machine learning allows us to make **models** from **data**. This means that given **new data** that the model hasn't seen before, we can assign a new label to that new data. \n",
    "\n",
    "### Whats the simplest data-driven model?\n",
    "\n",
    "Lets think of the simplest model we can make, using the data we have. For example, we could get 50% accuracy by just picking the same class every time without even looking at the data. Generally, we would hope to be doing better than **mean** or chance!\n",
    "\n",
    "We can do much better than that using **learning algorithms** to generate our models in a process called **training**. We will cover a couple of learning algorithms used for classification later in the lecture. \n",
    "\n",
    "\n",
    "### Datasets\n",
    "\n",
    "The format of our dataset is quite simple. Each example (in our case each text document), is represented by 1 or more numbers. This might be a Bag of Words Vector, a TF/IDF vector, or a Topic Model Vector, or some other representations we'll learn about later on in the course. \n",
    "\n",
    "This is the **input**. Each example also has a label, or an **output**. This label tells us which class the example belongs to and we can use this to **train** our model.\n",
    "\n",
    "#### Labels\n",
    "A quick word on labels in classification tasks. They are:\n",
    "\n",
    "- Discrete (https://statisticsbyjim.com/basics/discrete-vs-continuous-data/)\n",
    "- Categorical (not numerical, although we often use numbers). 1 is not less than 2, 3 is not half 6. \n"
   ]
  },
  {
   "cell_type": "markdown",
   "metadata": {},
   "source": [
    "\n",
    "### Training \n",
    "\n",
    "This is where we take the dataset (the input that represents each example, and its accompanying label), and generate a model that will learn to take new inputs, and be able to correctly label them. \n",
    "\n",
    "The way this happens is often starting from some random initialisation, we iteratively try each example, check if we got it right by comparing the model's prediction against the actual label, and then use this information to improve the model. Eventually, we end up with a model that works well (hopefully!). \n",
    "\n",
    "The algorithms we'll look at today actually don't really have much of a training process as such, unlike the more fancy learning algorithms we'll look at later in the course. \n",
    "\n",
    "### New Data\n",
    "\n",
    "Now we've trained the model, its time to try it out on some new data! Remember, the goal is to make something that is able to correctly label new data (new instances of text) based on what it has learned about the categories from the dataset. It is worth noting here that models will only tend to be good at identifying new examples that are similar, or at are least different in similar ways, to the ones it has seen before.  \n",
    "\n",
    "We'll look into how to evaluate our models later on. "
   ]
  },
  {
   "cell_type": "code",
   "execution_count": 48,
   "metadata": {
    "ExecuteTime": {
     "end_time": "2024-09-12T09:50:44.886566Z",
     "start_time": "2024-09-12T09:50:44.702275Z"
    },
    "scrolled": true
   },
   "outputs": [
    {
     "name": "stdout",
     "output_type": "stream",
     "text": [
      "(1977, 2) (1977,)\n",
      "Number of mislabeled points out of a total 1977 points : 832, 57.916\n"
     ]
    }
   ],
   "source": [
    "from sklearn.naive_bayes import GaussianNB\n",
    "\n",
    "#Pick features\n",
    "#features = [\"subject\",\"article\"]\n",
    "\n",
    "features = [\"moon\",\"nhl\"]\n",
    "#features = [\"space\",\"hockey\", \"moon\",\"nhl\"]\n",
    "# features = np.random.choice(vocab, 100)\n",
    "\n",
    "#Add features to main dataframe\n",
    "\n",
    "vectorised_dense = vectorised.todense()\n",
    "\n",
    "\n",
    "for f in features:\n",
    "    df[f] = vectorised_dense[:, vocab == f]\n",
    "#Initialise the model\n",
    "gnb = GaussianNB()\n",
    "\n",
    "#Get the dataset\n",
    "X = df[features]\n",
    "y = df[\"label\"]\n",
    "\n",
    "print(X.shape, y.shape)\n",
    "\n",
    "#Train the model\n",
    "model = gnb.fit(X, y)\n",
    "\n",
    "#See if the model works\n",
    "y_pred = model.predict(X)\n",
    "\n",
    "#How many did it get right?\n",
    "num_incorrect = (y != y_pred).sum()\n",
    "total = df[\"label\"].shape[0]\n",
    "acc = (total - num_incorrect) / total * 100\n",
    "print(\"Number of mislabeled points out of a total %d points : %d, %0.3f\" % (total, num_incorrect, acc))"
   ]
  },
  {
   "cell_type": "markdown",
   "metadata": {},
   "source": [
    "### How good is that score?\n",
    "\n",
    "Is the model better than random? Here we show what happens if we randomly guess a label."
   ]
  },
  {
   "cell_type": "code",
   "execution_count": 49,
   "metadata": {
    "ExecuteTime": {
     "end_time": "2024-09-12T09:50:44.891238Z",
     "start_time": "2024-09-12T09:50:44.887570Z"
    }
   },
   "outputs": [
    {
     "name": "stdout",
     "output_type": "stream",
     "text": [
      "Number of mislabeled points out of a total 1977 points : 955, 51.694\n"
     ]
    }
   ],
   "source": [
    "#Generate some random results\n",
    "y_pred = np.random.randint(0,2,len(y))\n",
    "\n",
    "#How many did it get right?\n",
    "num_incorrect = (y != y_pred).sum()\n",
    "total = df[\"label\"].shape[0]\n",
    "acc = (total - num_incorrect) / total * 100\n",
    "print(\"Number of mislabeled points out of a total %d points : %d, %0.3f\" % (total, num_incorrect, acc))"
   ]
  },
  {
   "cell_type": "markdown",
   "metadata": {},
   "source": [
    "### Good for some....\n",
    "\n",
    "For some examples the two words are really good, but for some examples where the TF/IDF for each word is near 0, its a bad representation\n",
    "\n",
    "For example, out of 1000 of each category, we may have a 300 space emails where the features are (0,0), and 400 hockey emails where the features are (0,0). SO if we then have a new email that scores (0,0), what category do with put it in? We can't use just these features to reliably tell them apart!"
   ]
  },
  {
   "cell_type": "code",
   "execution_count": 50,
   "metadata": {
    "ExecuteTime": {
     "end_time": "2024-09-12T09:50:44.895636Z",
     "start_time": "2024-09-12T09:50:44.892243Z"
    }
   },
   "outputs": [
    {
     "data": {
      "text/plain": [
       "np.float64(51.694486595852304)"
      ]
     },
     "execution_count": 50,
     "metadata": {},
     "output_type": "execute_result"
    }
   ],
   "source": [
    "#Get the accuracy \n",
    "acc = (total - num_incorrect) / total * 100\n",
    "acc"
   ]
  },
  {
   "cell_type": "markdown",
   "metadata": {},
   "source": [
    "### Evaluating Models \n",
    "\n",
    "#### Training Set Accuracy\n",
    "Training set accuracy is when we take all the data we trained the model on and use it to determine the accuracy of that same trained model. It's important to remember that the goal of most traditional machine learning tasks is to take existing examples and produce something which generalises to new examples. \n",
    "\n",
    "In an issue known as overfitting, a model may have high training set accuracy, but when given new examples will perform poorly. In our text blog example, this means the model has learnt to identify the exact blog posts it has seen before, rather than learning something intrinsic about all space or hockey emails that would allow it to correctly label novel ones under different circumstances in the wild. \n",
    "\n",
    "#### Validation Set Accuracy\n",
    "To get a more accurate measure of accuracy (meta, right?), you can hold back some of your data from training and use this to evaluate your model during development. This way your model is being tested on unseen data and you can have more confidence it will work when you put it into production. Proportions for this split vary, but 10% is often used.\n",
    "\n",
    "The problem with test set accuracy is that you lose some of your precious data for training. Also, if you have small datasets, a 10% split of an already small number of examples may not actually give you much of an idea about how well your model is performing. \n",
    "\n",
    "You can see that no one method is right for all situations and compromises often have to be made. It's also important to note that these methods will only work as well as your data is good. They won’t, for example, spot bias in your model if your test set also lacks the necessary diversity. \n",
    "\n",
    "#### Test Sets\n",
    "Some people hold back even more data to really test how well their model will work in the real world (or \"production\"). This is because they may overfit to their testing data when tuning their models. \n",
    "\n",
    "#### Cross Validation \n",
    "Its the best (or worst?) of both worlds approach! More on that later."
   ]
  },
  {
   "cell_type": "markdown",
   "metadata": {},
   "source": [
    "### `train_test_split(X, y, split)`\n",
    "\n",
    "There is a function in the `sklearn` library that we can use called `train_test_split()` we can use to create our different datasets for **training** and **validation**."
   ]
  },
  {
   "cell_type": "code",
   "execution_count": 51,
   "metadata": {
    "ExecuteTime": {
     "end_time": "2024-09-12T09:50:46.229165Z",
     "start_time": "2024-09-12T09:50:44.896643Z"
    }
   },
   "outputs": [
    {
     "name": "stdout",
     "output_type": "stream",
     "text": [
      "Number of mislabeled points out of a total 396 points : 3, Accuracy is 99.242 percent\n"
     ]
    }
   ],
   "source": [
    "#Add features to main dataframe\n",
    "from sklearn.model_selection import train_test_split\n",
    "X_train, X_test, y_train, y_test = train_test_split(vectorised_df, df[\"label\"], test_size=0.2, random_state=0)\n",
    "#Train the model\n",
    "model = gnb.fit(X_train,y_train)\n",
    "#See if the model works\n",
    "y_pred = model.predict(X_test)\n",
    "num_incorrect = (y_test != y_pred).sum()\n",
    "total = y_test.shape[0]\n",
    "acc = (total - num_incorrect) / total * 100\n",
    "print(\"Number of mislabeled points out of a total %d points : %d, Accuracy is %0.3f percent\" % (total, num_incorrect, acc))"
   ]
  },
  {
   "cell_type": "code",
   "execution_count": 52,
   "metadata": {
    "ExecuteTime": {
     "end_time": "2024-09-12T09:50:46.233648Z",
     "start_time": "2024-09-12T09:50:46.230171Z"
    }
   },
   "outputs": [],
   "source": [
    "##Look up the documentation using ?\n",
    "?train_test_split"
   ]
  },
  {
   "cell_type": "markdown",
   "metadata": {},
   "source": [
    "### Comparing Representations\n",
    "\n",
    "OK, so now we can compare TF/IDF, SVD and LDA representations, remember, one isn't better than the other for all datasets and problems. One might be better for this dataset and problem. "
   ]
  },
  {
   "cell_type": "code",
   "execution_count": 53,
   "metadata": {
    "ExecuteTime": {
     "end_time": "2024-09-12T09:50:49.499157Z",
     "start_time": "2024-09-12T09:50:46.234657Z"
    }
   },
   "outputs": [
    {
     "name": "stderr",
     "output_type": "stream",
     "text": [
      "C:\\coding_projects\\ual_cci\\peckham-daz\\24-intro-to-data-science\\daz-venv\\Lib\\site-packages\\sklearn\\feature_extraction\\text.py:521: UserWarning: The parameter 'token_pattern' will not be used since 'tokenizer' is not None'\n",
      "  warnings.warn(\n"
     ]
    }
   ],
   "source": [
    "# Set things up\n",
    "lda_cv = CountVectorizer(stop_words='english', tokenizer=my_tokeniser,\n",
    "                        max_df=.1,\n",
    "                        max_features=5000)\n",
    "count_data = lda_cv.fit_transform(df[\"text\"])\n",
    "lda = LatentDirichletAllocation(n_components=16,\n",
    "                                random_state=123,\n",
    "                                learning_method='batch')"
   ]
  },
  {
   "cell_type": "code",
   "execution_count": 54,
   "metadata": {
    "ExecuteTime": {
     "end_time": "2024-09-12T09:50:53.231919Z",
     "start_time": "2024-09-12T09:50:49.500161Z"
    }
   },
   "outputs": [],
   "source": [
    "# PLEASE note this is unsupervised learning\n",
    "lda_topics = lda.fit_transform(count_data)"
   ]
  },
  {
   "cell_type": "code",
   "execution_count": 55,
   "metadata": {
    "ExecuteTime": {
     "end_time": "2024-09-12T09:50:54.334064Z",
     "start_time": "2024-09-12T09:50:53.232934Z"
    }
   },
   "outputs": [
    {
     "name": "stdout",
     "output_type": "stream",
     "text": [
      "Feature set  0\n",
      "Number of mislabeled points out of a total 594 points : 5, 99.158 accurate\n",
      "Feature set  1\n",
      "Number of mislabeled points out of a total 594 points : 32, 94.613 accurate\n",
      "Feature set  2\n",
      "Number of mislabeled points out of a total 594 points : 36, 93.939 accurate\n"
     ]
    }
   ],
   "source": [
    "#Compare the 3 representations\n",
    "tfidf = np.asarray(vectorised.todense())\n",
    "features = [tfidf, svd_topic_vectors, lda_topics]\n",
    "i = 0\n",
    "for f in features:\n",
    "    print(\"Feature set \",i)\n",
    "    i = i+1\n",
    "    X_train, X_test, y_train, y_test = train_test_split(f, df[\"label\"], test_size=0.3, random_state=0)\n",
    "    gnb = GaussianNB()\n",
    "    y_pred = gnb.fit(X_train, y_train).predict(X_test)\n",
    "    num_incorrect = (y_test != y_pred).sum()\n",
    "    total = y_test.shape[0]\n",
    "    acc = (total - num_incorrect) / total * 100\n",
    "    print(\"Number of mislabeled points out of a total %d points : %d, %0.3f accurate\" % (total, num_incorrect, acc))"
   ]
  },
  {
   "cell_type": "markdown",
   "metadata": {},
   "source": [
    "### Naive Bayes\n",
    "\n",
    "Now we're going to learn about the algorithm that we've been using to classify, as it is one widely used in text classification tasks. \n",
    "\n",
    "When we see a new example we ask \"Given I know that this document has these feature values, what is the probability that it is from each class?\". Naive Bayes will then return the **most likely** label, given those values. \n",
    "\n",
    "```\n",
    "P(c=0|x1,x2,x3..)\n",
    "P(c=1|x1,x2,x3..)\n",
    "```\n",
    "\n",
    "How we reach this probability is in two steps.\n",
    "\n",
    "First, we ask \"What is the probability that a document in a particular class has these particular values?\". We can look at a **probability distribution** (as shown in the plot below) to work this out. For example, we may see that that for **space (class 0)**, the probability of a seeing a **TF/IDF** score of 0.4 for the word **year** might be 0.084 and the probability in **hockey (class 1)** is only 0.069. \n",
    "\n",
    "```\n",
    "P(time=0.4|c=0) = 0.084\n",
    "P(time=0.4|c=1) = 0.069\n",
    "```"
   ]
  },
  {
   "cell_type": "code",
   "execution_count": 56,
   "metadata": {
    "ExecuteTime": {
     "end_time": "2024-09-12T09:50:54.587641Z",
     "start_time": "2024-09-12T09:50:54.335079Z"
    }
   },
   "outputs": [
    {
     "name": "stdout",
     "output_type": "stream",
     "text": [
      "prob =  0.0840703196980875\n",
      "prob =  0.0690159906776055\n"
     ]
    },
    {
     "data": {
      "image/png": "[encoded data removed]",
      "text/plain": [
       "<Figure size 1200x800 with 2 Axes>"
      ]
     },
     "metadata": {},
     "output_type": "display_data"
    }
   ],
   "source": [
    "from scipy import stats \n",
    "fig, ax = plt.subplots(nrows=1, ncols=2, figsize=(12,8))\n",
    "feature = \"time\"\n",
    "for i,c in enumerate(classes):\n",
    "    #Get vals for word\n",
    "    tfidf_vals = c[:, vocab == feature]\n",
    "    lim = 220\n",
    "    #Remove 0 scores (for plotting)\n",
    "    tfidf_vals = sorted(np.array(tfidf_vals.flatten())[0])[-lim:]\n",
    "    x = np.linspace(0, 0.2, len(tfidf_vals))\n",
    "    #Find mean and standard deviation\n",
    "    m, s = stats.norm.fit(tfidf_vals)\n",
    "    #Draw normal curve\n",
    "    pdf_g = stats.norm.pdf(x, m, s)\n",
    "    ax[i].set_ylim([0,25])\n",
    "    ax[i].hist(tfidf_vals, bins = 40)\n",
    "    ax[i].plot(x, pdf_g, label=\"Probabilty distribution\")\n",
    "    index = 43\n",
    "    print(\"prob = \", pdf_g[index]/len(tfidf_vals))\n",
    "    ax[i].plot(x[index], pdf_g[index],\"rx\",ms=12, label=\"tfxidf = 0.4\") \n",
    "    ax[i].set_xlabel(\"tfxidf scores for \\\"\" + feature +\"\\\"\")\n",
    "    ax[i].set_title(\"space\" if i == 0 else \"hockey\")\n",
    "    ax[i].legend()"
   ]
  },
  {
   "cell_type": "markdown",
   "metadata": {},
   "source": [
    "\n",
    "But this is not enough, because it may also be that **regardless** of observations, it's actually way more likely that you'll get one class over another. \n",
    "\n",
    "In our case the classes are nicely balanced so this won't have much effect, because the chance of seeing each class, regardless of what we know about the text, is about 50/50\n",
    "\n",
    "But using **Bayes Rule** we can calculate the probability of each class, given the observation, taking into account the probability before you had made the observation. \n",
    "\n",
    "```\n",
    "P(c=0|year=0.1) = P(c=0) * P(year=0.1|c=0)\n",
    "P(c=1|year=0.1) = P(c=1) * P(year=0.1|c=1)\n",
    "```\n",
    "\n",
    "But this is only for one of the features, and as we've seen, we may use anywhere from 1 to thousands! \n",
    "\n",
    "We can calculate each probability for each feature separately and combine them to get a final probability and this is where the **naive** in **naive bayes** comes in. \n",
    "\n",
    "The maths that we use to combine the probabilities assumes that all the features are independent and unrelated, however, it is quite likely that some will actually be related in some way. We ignore this assumption and use it anyway and it turns out it sitll works quite well!"
   ]
  },
  {
   "cell_type": "markdown",
   "metadata": {},
   "source": [
    "## Summary\n",
    "\n",
    "### Classification only works for what you trained it for \n",
    "\n",
    "1. Will always make pick one of the classes it's been trained on \n",
    "\n",
    "\n",
    "2. Data has to be in the same format \n"
   ]
  },
  {
   "cell_type": "markdown",
   "metadata": {},
   "source": [
    "### Uses of Text Classification in Creative Industries \n",
    "\n",
    "- Classifying social media response to events \n",
    "\n",
    "\n",
    "    - Did people enjoy the show?\n",
    "\n",
    "\n",
    "- Grouping media from text descriptions \n",
    "\n",
    "\n",
    "    - Can help if we have categories that we know are useful\n",
    "\n",
    "\n",
    "- Identifying new items in museum collections \n",
    "\n",
    "\n",
    "    - Which experts should look at these documents?\n",
    "\n",
    "\n",
    "- Filtering out inappropriate content \n",
    "\n",
    "\n",
    "    - Live performances with audience participation "
   ]
  },
  {
   "cell_type": "markdown",
   "metadata": {},
   "source": [
    "### Rules of Thumb\n",
    "\n",
    " - A model is created by a learning algorithm \n",
    " \n",
    " \n",
    " - A classifier learns to attach labels to new data in the form of discrete numbers (https://statisticsbyjim.com/basics/discrete-vs-continuous-data/)\n",
    " \n",
    " \n",
    " - We want a model that works well with new data (generalises well, **not overfit**)\n",
    " \n",
    " \n",
    " - Different features can affect model performance\n",
    " \n",
    " \n",
    " - The model can only learn variations similar to that it has seen before  \n",
    "     \n",
    "     \n",
    "     - Generally less features is better\n",
    "     \n",
    "     \n",
    "     - Generally more data is better, especially for more complex problems \n",
    "     \n",
    "     \n",
    " - More classes (more choices), generally is a harder problem \n",
    " \n",
    " \n",
    " - Equal numbers of examples for each class is also generally better"
   ]
  },
  {
   "cell_type": "code",
   "execution_count": 56,
   "metadata": {
    "ExecuteTime": {
     "end_time": "2024-09-12T09:50:54.589906Z",
     "start_time": "2024-09-12T09:50:54.587641Z"
    },
    "collapsed": false
   },
   "outputs": [],
   "source": []
  }
 ],
 "metadata": {
  "kernelspec": {
   "display_name": "Python 3 (ipykernel)",
   "language": "python",
   "name": "python3"
  },
  "language_info": {
   "codemirror_mode": {
    "name": "ipython",
    "version": 3
   },
   "file_extension": ".py",
   "mimetype": "text/x-python",
   "name": "python",
   "nbconvert_exporter": "python",
   "pygments_lexer": "ipython3",
   "version": "3.9.18"
  }
 },
 "nbformat": 4,
 "nbformat_minor": 4
}
